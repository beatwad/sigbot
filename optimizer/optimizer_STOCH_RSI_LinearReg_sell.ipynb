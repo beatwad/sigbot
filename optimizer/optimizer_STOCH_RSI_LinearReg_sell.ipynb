{
 "cells": [
  {
   "cell_type": "markdown",
   "id": "1a64dfc0",
   "metadata": {},
   "source": [
    "# Best optimizer parameters:\n",
    "\n",
    "## RSI_STOCH_LinearReg:\n",
    "\n",
    "### SELL ~ \n",
    "- RSI: low/high bound: **30/70**, timeperiod: **14**\n",
    "- STOCH: low/high bound: **15/85**, fastk: **9**, slowk: **3**, slowd: **7**\n",
    "\n",
    "# Parameter optimization"
   ]
  },
  {
   "cell_type": "code",
   "execution_count": 1,
   "id": "7c7d4a89",
   "metadata": {
    "scrolled": false
   },
   "outputs": [
    {
     "name": "stdout",
     "output_type": "stream",
     "text": [
      "Number of combinations is 5\n"
     ]
    },
    {
     "data": {
      "application/vnd.jupyter.widget-view+json": {
       "model_id": "03e0d454ae0042a98e89794390bf02a7",
       "version_major": 2,
       "version_minor": 0
      },
      "text/plain": [
       "  0%|          | 0/5 [00:00<?, ?it/s]"
      ]
     },
     "metadata": {},
     "output_type": "display_data"
    },
    {
     "data": {
      "text/html": [
       "<div>\n",
       "<style scoped>\n",
       "    .dataframe tbody tr th:only-of-type {\n",
       "        vertical-align: middle;\n",
       "    }\n",
       "\n",
       "    .dataframe tbody tr th {\n",
       "        vertical-align: top;\n",
       "    }\n",
       "\n",
       "    .dataframe thead th {\n",
       "        text-align: right;\n",
       "    }\n",
       "</style>\n",
       "<table border=\"1\" class=\"dataframe\">\n",
       "  <thead>\n",
       "    <tr style=\"text-align: right;\">\n",
       "      <th></th>\n",
       "      <th>pattern</th>\n",
       "      <th>RSI_timeperiod</th>\n",
       "      <th>RSI_low_bound</th>\n",
       "      <th>STOCH_fastk_period</th>\n",
       "      <th>STOCH_slowk_period</th>\n",
       "      <th>STOCH_slowd_period</th>\n",
       "      <th>STOCH_low_bound</th>\n",
       "      <th>LinearReg_timeperiod</th>\n",
       "      <th>LinearReg_low_bound</th>\n",
       "      <th>pct_right_forecast_1</th>\n",
       "      <th>pct_right_forecast_2</th>\n",
       "      <th>pct_right_forecast_3</th>\n",
       "      <th>pct_right_forecast_4</th>\n",
       "      <th>pct_right_forecast_5</th>\n",
       "      <th>pct_right_forecast_6</th>\n",
       "      <th>pct_right_forecast_7</th>\n",
       "      <th>pct_right_forecast_8</th>\n",
       "      <th>pct_right_forecast_9</th>\n",
       "      <th>pct_right_forecast_10</th>\n",
       "      <th>pct_right_forecast_11</th>\n",
       "      <th>pct_right_forecast_12</th>\n",
       "      <th>pct_right_forecast_13</th>\n",
       "      <th>pct_right_forecast_14</th>\n",
       "      <th>pct_right_forecast_15</th>\n",
       "      <th>pct_right_forecast_16</th>\n",
       "      <th>pct_right_forecast_17</th>\n",
       "      <th>pct_right_forecast_18</th>\n",
       "      <th>pct_right_forecast_19</th>\n",
       "      <th>pct_right_forecast_20</th>\n",
       "      <th>pct_right_forecast_21</th>\n",
       "      <th>pct_right_forecast_22</th>\n",
       "      <th>pct_right_forecast_23</th>\n",
       "      <th>pct_right_forecast_24</th>\n",
       "      <th>pct_price_diff_1</th>\n",
       "      <th>pct_price_diff_2</th>\n",
       "      <th>pct_price_diff_3</th>\n",
       "      <th>pct_price_diff_4</th>\n",
       "      <th>pct_price_diff_5</th>\n",
       "      <th>pct_price_diff_6</th>\n",
       "      <th>pct_price_diff_7</th>\n",
       "      <th>pct_price_diff_8</th>\n",
       "      <th>pct_price_diff_9</th>\n",
       "      <th>pct_price_diff_10</th>\n",
       "      <th>pct_price_diff_11</th>\n",
       "      <th>pct_price_diff_12</th>\n",
       "      <th>pct_price_diff_13</th>\n",
       "      <th>pct_price_diff_14</th>\n",
       "      <th>pct_price_diff_15</th>\n",
       "      <th>pct_price_diff_16</th>\n",
       "      <th>pct_price_diff_17</th>\n",
       "      <th>pct_price_diff_18</th>\n",
       "      <th>pct_price_diff_19</th>\n",
       "      <th>pct_price_diff_20</th>\n",
       "      <th>pct_price_diff_21</th>\n",
       "      <th>pct_price_diff_22</th>\n",
       "      <th>pct_price_diff_23</th>\n",
       "      <th>pct_price_diff_24</th>\n",
       "      <th>forecasts_num</th>\n",
       "      <th>pct_right_forecast_avg</th>\n",
       "    </tr>\n",
       "  </thead>\n",
       "  <tbody>\n",
       "  </tbody>\n",
       "</table>\n",
       "</div>"
      ],
      "text/plain": [
       "Empty DataFrame\n",
       "Columns: [pattern, RSI_timeperiod, RSI_low_bound, STOCH_fastk_period, STOCH_slowk_period, STOCH_slowd_period, STOCH_low_bound, LinearReg_timeperiod, LinearReg_low_bound, pct_right_forecast_1, pct_right_forecast_2, pct_right_forecast_3, pct_right_forecast_4, pct_right_forecast_5, pct_right_forecast_6, pct_right_forecast_7, pct_right_forecast_8, pct_right_forecast_9, pct_right_forecast_10, pct_right_forecast_11, pct_right_forecast_12, pct_right_forecast_13, pct_right_forecast_14, pct_right_forecast_15, pct_right_forecast_16, pct_right_forecast_17, pct_right_forecast_18, pct_right_forecast_19, pct_right_forecast_20, pct_right_forecast_21, pct_right_forecast_22, pct_right_forecast_23, pct_right_forecast_24, pct_price_diff_1, pct_price_diff_2, pct_price_diff_3, pct_price_diff_4, pct_price_diff_5, pct_price_diff_6, pct_price_diff_7, pct_price_diff_8, pct_price_diff_9, pct_price_diff_10, pct_price_diff_11, pct_price_diff_12, pct_price_diff_13, pct_price_diff_14, pct_price_diff_15, pct_price_diff_16, pct_price_diff_17, pct_price_diff_18, pct_price_diff_19, pct_price_diff_20, pct_price_diff_21, pct_price_diff_22, pct_price_diff_23, pct_price_diff_24, forecasts_num, pct_right_forecast_avg]\n",
       "Index: []"
      ]
     },
     "execution_count": 1,
     "metadata": {},
     "output_type": "execute_result"
    }
   ],
   "source": [
    "import sys\n",
    "import pandas as pd\n",
    "import numpy as np\n",
    "from optimizer import Optimizer\n",
    "from os import environ\n",
    "\n",
    "\n",
    "# Set environment variable\n",
    "environ[\"ENV\"] = \"optimize\"\n",
    "\n",
    "from bot.bot import SigBot\n",
    "from config.config import ConfigFactory\n",
    "\n",
    "# Get configs\n",
    "configs = ConfigFactory.factory(environ).configs\n",
    "\n",
    "\n",
    "pd.set_option('display.max_columns', 500)\n",
    "\n",
    "ttype = 'sell'\n",
    "pattern = ['STOCH', 'RSI', 'LinearReg']\n",
    "opt_limit = 100\n",
    "load = False\n",
    "\n",
    "optim_dict = {'RSI': {'timeperiod': [18], 'low_bound': [25]},\n",
    "              'STOCH': {'fastk_period': [8], 'slowk_period': [4],\n",
    "                        'slowd_period': [2], 'low_bound': [25]},\n",
    "              'LinearReg': {'timeperiod': [24], 'low_bound': [0]}}\n",
    "opt = Optimizer(pattern, optim_dict, **configs)\n",
    "\n",
    "stat = opt.optimize(pattern, ttype, opt_limit, load)\n",
    "try:\n",
    "    open(f'opt_{\"_\".join(pattern)}_{ttype}.pkl', 'w').close()\n",
    "except FileNotFoundError:\n",
    "    pass\n",
    "stat.to_pickle(f'opt_{\"_\".join(pattern)}_{ttype}.pkl')\n",
    "\n",
    "stat['pct_right_forecast_avg'] = stat[[f'pct_right_forecast_{lag + 1}' for lag in range(24)]].apply(np.mean, axis=1)\n",
    "stat = stat.sort_values(['pct_right_forecast_avg', 'forecasts_num'], ascending=False)\n",
    "stat[stat['forecasts_num'] > 10].head(20)"
   ]
  }
 ],
 "metadata": {
  "kernelspec": {
   "display_name": "Python 3 (ipykernel)",
   "language": "python",
   "name": "python3"
  },
  "language_info": {
   "codemirror_mode": {
    "name": "ipython",
    "version": 3
   },
   "file_extension": ".py",
   "mimetype": "text/x-python",
   "name": "python",
   "nbconvert_exporter": "python",
   "pygments_lexer": "ipython3",
   "version": "3.10.5"
  }
 },
 "nbformat": 4,
 "nbformat_minor": 5
}
