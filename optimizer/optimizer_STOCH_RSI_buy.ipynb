{
 "cells": [
  {
   "cell_type": "markdown",
   "id": "1a64dfc0",
   "metadata": {},
   "source": [
    "# Best optimizer parameters:\n",
    "\n",
    "## RSI_STOCH:\n",
    "\n",
    "### BUY ~ \n",
    "- RSI: low/high bound: **35/65**, timeperiod: 14\n",
    "- STOCH: low/high bound: **25/75**, fastk: 9, slowk: 3, slowd: 7\n",
    "\n",
    "# Parameter optimization"
   ]
  },
  {
   "cell_type": "code",
   "execution_count": null,
   "id": "7c7d4a89",
   "metadata": {
    "scrolled": false
   },
   "outputs": [
    {
     "name": "stdout",
     "output_type": "stream",
     "text": [
      "Number of combinations is 1\n"
     ]
    },
    {
     "data": {
      "application/vnd.jupyter.widget-view+json": {
       "model_id": "2090be9e07cb45648dca21f1287a3459",
       "version_major": 2,
       "version_minor": 0
      },
      "text/plain": [
       "  0%|          | 0/1 [00:00<?, ?it/s]"
      ]
     },
     "metadata": {},
     "output_type": "display_data"
    },
    {
     "name": "stdout",
     "output_type": "stream",
     "text": [
      "\n",
      "Load the datasets...\n",
      "Binance\n"
     ]
    }
   ],
   "source": [
    "import sys\n",
    "import pandas as pd\n",
    "import numpy as np\n",
    "from optimizer import Optimizer\n",
    "from os import environ, remove\n",
    "\n",
    "\n",
    "# Set environment variable\n",
    "environ[\"ENV\"] = \"optimize\"\n",
    "\n",
    "from bot.bot import SigBot\n",
    "from config.config import ConfigFactory\n",
    "\n",
    "# Get configs\n",
    "configs = ConfigFactory.factory(environ).configs\n",
    "\n",
    "\n",
    "pd.set_option('display.max_columns', 500)\n",
    "\n",
    "ttype = 'buy'\n",
    "pattern = ['STOCH', 'RSI']\n",
    "opt_limit = 100\n",
    "load = False\n",
    "\n",
    "# optim_dict = {'RSI': {'timeperiod': [14, 16, 18, 20], 'low_bound': [20, 25, 30, 35]},\n",
    "#               'STOCH': {'fastk_period': [4, 6, 8, 10], 'slowk_period': [2, 3, 4, 5],\n",
    "#                         'slowd_period': [2, 3, 5, 7], 'low_bound': [10, 15, 20, 25]}}\n",
    "optim_dict = {'RSI': {'timeperiod': [19], 'low_bound': [30]},\n",
    "              'STOCH': {'fastk_period': [9], 'slowk_period': [3],\n",
    "                        'slowd_period': [10], 'low_bound': [25]}}\n",
    "opt = Optimizer(pattern, optim_dict, **configs)\n",
    "\n",
    "stat = opt.optimize(pattern, ttype, opt_limit, load)\n",
    "try:\n",
    "    open(f'opt_{\"_\".join(pattern)}_{ttype}.pkl', 'w').close()\n",
    "except FileNotFoundError:\n",
    "    pass\n",
    "stat.to_pickle(f'opt_{\"_\".join(pattern)}_{ttype}.pkl')\n",
    "\n",
    "stat['pct_right_forecast_avg'] = stat[[f'pct_right_forecast_{lag + 1}' for lag in range(24)]].apply(np.mean, axis=1)\n",
    "stat = stat.sort_values(['pct_right_forecast_avg', 'forecasts_num'], ascending=False)\n",
    "stat.head(20)"
   ]
  },
  {
   "cell_type": "markdown",
   "id": "2d8bb1d4",
   "metadata": {},
   "source": [
    "# Save new config data to config file"
   ]
  },
  {
   "cell_type": "code",
   "execution_count": 2,
   "id": "c4131154",
   "metadata": {},
   "outputs": [],
   "source": [
    "from config_updater import ConfigUpdater\n",
    "\n",
    "timeframe = \"5m_1h\"\n",
    "ttype = 'buy'\n",
    "        \n",
    "optim_dict = {'RSI': {'timeperiod': [19], 'low_bound': [30]},\n",
    "                  'STOCH': {'fastk_period': [9], 'slowk_period': [3],\n",
    "                            'slowd_period': [10], 'low_bound': [25]}}\n",
    "        \n",
    "cu = ConfigUpdater(ttype, timeframe)\n",
    "cu.config_update(optim_dict)"
   ]
  }
 ],
 "metadata": {
  "kernelspec": {
   "display_name": "Python 3 (ipykernel)",
   "language": "python",
   "name": "python3"
  },
  "language_info": {
   "codemirror_mode": {
    "name": "ipython",
    "version": 3
   },
   "file_extension": ".py",
   "mimetype": "text/x-python",
   "name": "python",
   "nbconvert_exporter": "python",
   "pygments_lexer": "ipython3",
   "version": "3.10.5"
  }
 },
 "nbformat": 4,
 "nbformat_minor": 5
}
