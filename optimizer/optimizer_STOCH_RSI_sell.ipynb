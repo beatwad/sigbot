{
 "cells": [
  {
   "cell_type": "markdown",
   "id": "1a64dfc0",
   "metadata": {},
   "source": [
    "# Best optimizer parameters:\n",
    "\n",
    "## RSI_STOCH:\n",
    "\n",
    "### SELL ~ \n",
    "- RSI: low/high bound: **30/70**, timeperiod: **14**\n",
    "- STOCH: low/high bound: **15/85**, fastk: **9**, slowk: **4**, slowd: **7**\n",
    "\n",
    "# Parameter optimization"
   ]
  },
  {
   "cell_type": "code",
   "execution_count": null,
   "id": "7c7d4a89",
   "metadata": {
    "scrolled": false
   },
   "outputs": [
    {
     "name": "stdout",
     "output_type": "stream",
     "text": [
      "Number of combinations is 729\n"
     ]
    },
    {
     "data": {
      "application/vnd.jupyter.widget-view+json": {
       "model_id": "c0fead8196234be98f0ae5b04585a358",
       "version_major": 2,
       "version_minor": 0
      },
      "text/plain": [
       "  0%|          | 0/729 [00:00<?, ?it/s]"
      ]
     },
     "metadata": {},
     "output_type": "display_data"
    }
   ],
   "source": [
    "import sys\n",
    "import pandas as pd\n",
    "import numpy as np\n",
    "from optimizer import Optimizer\n",
    "from os import environ\n",
    "\n",
    "\n",
    "# Set environment variable\n",
    "environ[\"ENV\"] = \"optimize\"\n",
    "\n",
    "from bot.bot import SigBot\n",
    "from config.config import ConfigFactory\n",
    "\n",
    "# Get configs\n",
    "configs = ConfigFactory.factory(environ).configs\n",
    "\n",
    "\n",
    "pd.set_option('display.max_columns', 500)\n",
    "\n",
    "ttype = 'sell'\n",
    "pattern = ['STOCH', 'RSI']\n",
    "opt_limit = 100\n",
    "load = False\n",
    "\n",
    "optim_dict = {'RSI': {'timeperiod': [12, 14, 16], 'low_bound': [25, 30, 35]},\n",
    "              'STOCH': {'fastk_period': [5, 9, 14], 'slowk_period': [2, 3, 4],\n",
    "                        'slowd_period': [3, 5, 7], 'low_bound': [10, 15, 20]}}\n",
    "\n",
    "opt = Optimizer(pattern, optim_dict, **configs)\n",
    "opt.clean_prev_stat()\n",
    "rs = opt.optimize(pattern, ttype, opt_limit, load)\n",
    "\n",
    "stat = pd.read_pickle(f'opt_{\"_\".join(pattern)}_{ttype}.pkl')\n",
    "stat['pct_right_forecast_avg'] = stat[[f'pct_right_forecast_{lag + 1}' for lag in range(24)]].apply(np.mean, axis=1)\n",
    "stat = stat.sort_values(['pct_right_forecast_avg', 'forecasts_num'], ascending=False)\n",
    "stat[stat['forecasts_num'] > 10].head(20)"
   ]
  }
 ],
 "metadata": {
  "kernelspec": {
   "display_name": "Python 3 (ipykernel)",
   "language": "python",
   "name": "python3"
  },
  "language_info": {
   "codemirror_mode": {
    "name": "ipython",
    "version": 3
   },
   "file_extension": ".py",
   "mimetype": "text/x-python",
   "name": "python",
   "nbconvert_exporter": "python",
   "pygments_lexer": "ipython3",
   "version": "3.10.5"
  }
 },
 "nbformat": 4,
 "nbformat_minor": 5
}
