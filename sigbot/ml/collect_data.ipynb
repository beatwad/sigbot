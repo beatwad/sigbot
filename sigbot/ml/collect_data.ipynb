{
 "cells": [
  {
   "attachments": {},
   "cell_type": "markdown",
   "metadata": {},
   "source": [
    "# Load Pattern buy data"
   ]
  },
  {
   "cell_type": "code",
   "execution_count": 1,
   "metadata": {},
   "outputs": [
    {
     "name": "stdout",
     "output_type": "stream",
     "text": [
      "Timeframe is 1h, trade type is buy\n",
      "Number of combinations is 1\n"
     ]
    },
    {
     "name": "stderr",
     "output_type": "stream",
     "text": [
      "  0%|          | 0/1 [00:00<?, ?it/s]"
     ]
    },
    {
     "name": "stdout",
     "output_type": "stream",
     "text": [
      "\n",
      "Load the datasets...\n",
      "Binance\n",
      "ByBit\n",
      "OKEX\n",
      "MEXC\n",
      "BinanceFutures\n",
      "ByBitPerpetual\n",
      "OKEXSwap\n",
      "MEXCFutures\n"
     ]
    },
    {
     "name": "stderr",
     "output_type": "stream",
     "text": [
      "100%|██████████| 1/1 [09:24<00:00, 564.33s/it]\n"
     ]
    }
   ],
   "source": [
    "import warnings\n",
    "warnings.simplefilter(action='ignore', category=FutureWarning)\n",
    "\n",
    "import sys\n",
    "sys.path.append('..')\n",
    "\n",
    "import numpy as np\n",
    "import pandas as pd\n",
    "from glob import glob\n",
    "from optimizer.optimizer import Optimizer\n",
    "from os import environ\n",
    "\n",
    "# Set environment variable\n",
    "environ[\"ENV\"] = \"optimize\"\n",
    "\n",
    "from config.config import ConfigFactory\n",
    "\n",
    "pd.set_option('display.max_columns', 500)\n",
    "pd.set_option('display.max_rows', 500)\n",
    "\n",
    "ttype = 'buy'\n",
    "pattern = ['Pattern', 'Trend']\n",
    "indicator_list = pattern\n",
    "indicator_list_higher = ['Trend']\n",
    "\n",
    "work_timeframe = '1h'\n",
    "higher_timeframe = '4h'\n",
    "opt_limit = 100000\n",
    "load = True\n",
    "\n",
    "print(f'Timeframe is {work_timeframe}, trade type is {ttype}')\n",
    "\n",
    "# Get configs\n",
    "configs = ConfigFactory.factory(environ).configs\n",
    "configs['Indicator_list'] = pattern\n",
    "configs['Higher_TF_indicator_list'] = indicator_list_higher\n",
    "configs['Timeframes']['work_timeframe'] = work_timeframe\n",
    "configs['Timeframes']['higher_timeframe'] = higher_timeframe\n",
    "\n",
    "optim_dict = {\n",
    "                'Pattern': {\n",
    "                            'vol_window': [96],\n",
    "                            'vol_q_high': [0.75], # np.arange(0.1, 1, 0.05), \n",
    "                            'vol_q_low': [0.1], # np.arange(0.1, 1, 0.05),\n",
    "                            'window_low_bound': [1], \n",
    "                            'window_high_bound': [5],\n",
    "                            'first_candle': [0.5], # np.arange(0.5, 1, 0.05),\n",
    "                            'second_candle': [0.5], # np.arange(0.5, 1, 0.05)\n",
    "                            },\n",
    "                'Trend': {\n",
    "                            'timeperiod': [30], # np.arange(2, 50, 2),\n",
    "                            'low_bound': [0]\n",
    "                            }\n",
    "             }\n",
    "\n",
    "opt = Optimizer(pattern, optim_dict, clean=True, **configs)\n",
    "stat = opt.optimize(pattern, ttype, opt_limit, load, 'ml')\n"
   ]
  },
  {
   "attachments": {},
   "cell_type": "markdown",
   "metadata": {},
   "source": [
    "# Load Pattern sell data"
   ]
  },
  {
   "cell_type": "code",
   "execution_count": 2,
   "metadata": {},
   "outputs": [
    {
     "name": "stdout",
     "output_type": "stream",
     "text": [
      "Timeframe is 1h, trade type is sell\n",
      "Number of combinations is 1\n"
     ]
    },
    {
     "name": "stderr",
     "output_type": "stream",
     "text": [
      "100%|██████████| 1/1 [04:10<00:00, 250.27s/it]\n"
     ]
    }
   ],
   "source": [
    "ttype = 'sell'\n",
    "pattern = ['Pattern', 'Trend']\n",
    "indicator_list = pattern\n",
    "indicator_list_higher = ['Trend']\n",
    "\n",
    "load = False\n",
    "\n",
    "print(f'Timeframe is {work_timeframe}, trade type is {ttype}')\n",
    "\n",
    "# Get configs\n",
    "configs = ConfigFactory.factory(environ).configs\n",
    "configs['Indicator_list'] = pattern\n",
    "configs['Higher_TF_indicator_list'] = indicator_list_higher\n",
    "configs['Timeframes']['work_timeframe'] = work_timeframe\n",
    "configs['Timeframes']['higher_timeframe'] = higher_timeframe\n",
    "\n",
    "optim_dict = {\n",
    "                'Pattern': {\n",
    "                            'vol_window': [96],\n",
    "                            'vol_q_high': [0.75], # np.arange(0.1, 1, 0.05), \n",
    "                            'vol_q_low': [0.1], # np.arange(0.1, 1, 0.05),\n",
    "                            'window_low_bound': [1], \n",
    "                            'window_high_bound': [5],\n",
    "                            'first_candle': [0.75], # np.arange(0.5, 1, 0.05),\n",
    "                            'second_candle': [0.5], # np.arange(0.5, 1, 0.05)\n",
    "                            },\n",
    "                'Trend': {\n",
    "                            'timeperiod': [30], # np.arange(2, 50, 2),\n",
    "                            'low_bound': [0]\n",
    "                            }\n",
    "             }\n",
    "\n",
    "\n",
    "opt = Optimizer(pattern, optim_dict, clean=False, **configs)\n",
    "stat = opt.optimize(pattern, ttype, opt_limit, load, 'ml')"
   ]
  },
  {
   "attachments": {},
   "cell_type": "markdown",
   "metadata": {},
   "source": [
    "# Load RSI-STOCH-Trend buy data"
   ]
  },
  {
   "cell_type": "code",
   "execution_count": 3,
   "metadata": {},
   "outputs": [
    {
     "name": "stdout",
     "output_type": "stream",
     "text": [
      "Timeframe is 1h/4h, trade type is buy\n",
      "Number of combinations is 1\n"
     ]
    },
    {
     "name": "stderr",
     "output_type": "stream",
     "text": [
      "100%|██████████| 1/1 [00:43<00:00, 43.07s/it]\n"
     ]
    }
   ],
   "source": [
    "ttype = 'buy'\n",
    "pattern = ['STOCH', 'RSI']\n",
    "indicator_list = pattern\n",
    "indicator_list_higher = []\n",
    "\n",
    "print(f'Timeframe is {work_timeframe}/{higher_timeframe}, trade type is {ttype}')\n",
    "\n",
    "# Get configs\n",
    "configs = ConfigFactory.factory(environ).configs\n",
    "configs['Indicator_list'] = indicator_list\n",
    "configs['Higher_TF_indicator_list'] = indicator_list_higher\n",
    "configs['Timeframes']['work_timeframe'] = work_timeframe\n",
    "configs['Timeframes']['higher_timeframe'] = higher_timeframe\n",
    "\n",
    "optim_dict = {\n",
    "                'RSI': {\n",
    "                        'timeperiod': [14], \n",
    "                        'low_bound': [25]\n",
    "                       },\n",
    "                'STOCH': {\n",
    "                          'fastk_period': [9],\n",
    "                          'slowk_period': [7],\n",
    "                          'slowd_period': [3], \n",
    "                          'low_bound': [25]\n",
    "                        },\n",
    "                'Trend': {\n",
    "                          'timeperiod': [30], \n",
    "                          'low_bound': [0]\n",
    "                        }\n",
    "             }\n",
    "\n",
    "opt = Optimizer(pattern, optim_dict, clean=False, **configs)\n",
    "stat = opt.optimize(pattern, ttype, opt_limit, load, 'ml')"
   ]
  },
  {
   "attachments": {},
   "cell_type": "markdown",
   "metadata": {},
   "source": [
    "# Load RSI-STOCH-Trend sell data"
   ]
  },
  {
   "cell_type": "code",
   "execution_count": 4,
   "metadata": {},
   "outputs": [
    {
     "name": "stdout",
     "output_type": "stream",
     "text": [
      "Timeframe is 1h/4h, trade type is sell\n",
      "Number of combinations is 1\n"
     ]
    },
    {
     "name": "stderr",
     "output_type": "stream",
     "text": [
      "100%|██████████| 1/1 [00:41<00:00, 41.58s/it]\n"
     ]
    }
   ],
   "source": [
    "ttype = 'sell'\n",
    "pattern = ['STOCH', 'RSI']\n",
    "indicator_list = pattern\n",
    "indicator_list_higher = []\n",
    "\n",
    "print(f'Timeframe is {work_timeframe}/{higher_timeframe}, trade type is {ttype}')\n",
    "\n",
    "# Get configs\n",
    "configs = ConfigFactory.factory(environ).configs\n",
    "configs['Indicator_list'] = indicator_list\n",
    "configs['Higher_TF_indicator_list'] = indicator_list_higher\n",
    "configs['Timeframes']['work_timeframe'] = work_timeframe\n",
    "configs['Timeframes']['higher_timeframe'] = higher_timeframe\n",
    "\n",
    "optim_dict = {\n",
    "                'RSI': {\n",
    "                        'timeperiod': [14], \n",
    "                        'low_bound': [25]\n",
    "                       },\n",
    "                'STOCH': {\n",
    "                          'fastk_period': [9],\n",
    "                          'slowk_period': [7],\n",
    "                          'slowd_period': [3], \n",
    "                          'low_bound': [25]\n",
    "                        },\n",
    "                'Trend': {\n",
    "                          'timeperiod': [30],\n",
    "                          'low_bound': [0]\n",
    "                        }\n",
    "             }\n",
    "\n",
    "opt = Optimizer(pattern, optim_dict, clean=False, **configs)\n",
    "stat = opt.optimize(pattern, ttype, opt_limit, load, 'ml')"
   ]
  },
  {
   "attachments": {},
   "cell_type": "markdown",
   "metadata": {},
   "source": [
    "# Load MACD buy data"
   ]
  },
  {
   "cell_type": "code",
   "execution_count": 5,
   "metadata": {},
   "outputs": [
    {
     "name": "stdout",
     "output_type": "stream",
     "text": [
      "Timeframe is 1h/4h, trade type is buy\n",
      "Number of combinations is 1\n"
     ]
    },
    {
     "name": "stderr",
     "output_type": "stream",
     "text": [
      "100%|██████████| 1/1 [00:50<00:00, 50.46s/it]\n"
     ]
    }
   ],
   "source": [
    "ttype = 'buy'\n",
    "pattern = ['MACD']\n",
    "indicator_list = pattern\n",
    "indicator_list_higher = ['MACD']\n",
    "\n",
    "print(f'Timeframe is {work_timeframe}/{higher_timeframe}, trade type is {ttype}')\n",
    "\n",
    "# Get configs\n",
    "configs = ConfigFactory.factory(environ).configs\n",
    "configs['Indicator_list'] = indicator_list\n",
    "configs['Higher_TF_indicator_list'] = indicator_list_higher\n",
    "configs['Timeframes']['work_timeframe'] = work_timeframe\n",
    "configs['Timeframes']['higher_timeframe'] = higher_timeframe\n",
    "\n",
    "optim_dict = {\n",
    "                'MACD': {\n",
    "                          \"fastperiod\": [14],\n",
    "                          \"slowperiod\": [28],\n",
    "                          \"signalperiod\": [11]\n",
    "                        }\n",
    "             }\n",
    "\n",
    "opt = Optimizer(pattern, optim_dict, clean=False, **configs)\n",
    "stat = opt.optimize(pattern, ttype, opt_limit, load, 'ml')"
   ]
  },
  {
   "attachments": {},
   "cell_type": "markdown",
   "metadata": {},
   "source": [
    "# Load MACD sell data"
   ]
  },
  {
   "cell_type": "code",
   "execution_count": 6,
   "metadata": {},
   "outputs": [
    {
     "name": "stdout",
     "output_type": "stream",
     "text": [
      "Timeframe is 1h/4h, trade type is sell\n",
      "Number of combinations is 1\n"
     ]
    },
    {
     "name": "stderr",
     "output_type": "stream",
     "text": [
      "100%|██████████| 1/1 [01:29<00:00, 89.72s/it]\n"
     ]
    }
   ],
   "source": [
    "ttype = 'sell'\n",
    "pattern = ['MACD']\n",
    "indicator_list = pattern\n",
    "indicator_list_higher = ['MACD']\n",
    "\n",
    "print(f'Timeframe is {work_timeframe}/{higher_timeframe}, trade type is {ttype}')\n",
    "\n",
    "# Get configs\n",
    "configs = ConfigFactory.factory(environ).configs\n",
    "configs['Indicator_list'] = indicator_list\n",
    "configs['Higher_TF_indicator_list'] = indicator_list_higher\n",
    "configs['Timeframes']['work_timeframe'] = work_timeframe\n",
    "configs['Timeframes']['higher_timeframe'] = higher_timeframe\n",
    "\n",
    "optim_dict = {\n",
    "                'MACD': {\n",
    "                          \"fastperiod\": [14],\n",
    "                          \"slowperiod\": [28],\n",
    "                          \"signalperiod\": [11]\n",
    "                        }\n",
    "             }\n",
    "\n",
    "opt = Optimizer(pattern, optim_dict, clean=False, **configs)\n",
    "stat = opt.optimize(pattern, ttype, opt_limit, load, 'ml')"
   ]
  }
 ],
 "metadata": {
  "kernelspec": {
   "display_name": "sigbot",
   "language": "python",
   "name": "python3"
  },
  "language_info": {
   "codemirror_mode": {
    "name": "ipython",
    "version": 3
   },
   "file_extension": ".py",
   "mimetype": "text/x-python",
   "name": "python",
   "nbconvert_exporter": "python",
   "pygments_lexer": "ipython3",
   "version": "3.10.5"
  },
  "orig_nbformat": 4
 },
 "nbformat": 4,
 "nbformat_minor": 2
}
