{
 "cells": [
  {
   "attachments": {},
   "cell_type": "markdown",
   "metadata": {},
   "source": [
    "# Load Pattern buy data"
   ]
  },
  {
   "cell_type": "code",
   "execution_count": 4,
   "metadata": {},
   "outputs": [
    {
     "name": "stdout",
     "output_type": "stream",
     "text": [
      "Timeframe is 4h, trade type is buy\n",
      "Number of combinations is 1\n"
     ]
    },
    {
     "name": "stderr",
     "output_type": "stream",
     "text": [
      "  0%|          | 0/1 [36:39<?, ?it/s]\n"
     ]
    },
    {
     "ename": "KeyboardInterrupt",
     "evalue": "",
     "output_type": "error",
     "traceback": [
      "\u001b[0;31m---------------------------------------------------------------------------\u001b[0m",
      "\u001b[0;31mKeyboardInterrupt\u001b[0m                         Traceback (most recent call last)",
      "\u001b[1;32m/home/alex/Trading/sigbot/sigbot/ml/collect_data.ipynb Cell 2\u001b[0m in \u001b[0;36m<cell line: 54>\u001b[0;34m()\u001b[0m\n\u001b[1;32m     <a href='vscode-notebook-cell:/home/alex/Trading/sigbot/sigbot/ml/collect_data.ipynb#W1sZmlsZQ%3D%3D?line=36'>37</a>\u001b[0m optim_dict \u001b[39m=\u001b[39m {\n\u001b[1;32m     <a href='vscode-notebook-cell:/home/alex/Trading/sigbot/sigbot/ml/collect_data.ipynb#W1sZmlsZQ%3D%3D?line=37'>38</a>\u001b[0m                 \u001b[39m'\u001b[39m\u001b[39mPattern\u001b[39m\u001b[39m'\u001b[39m: {\n\u001b[1;32m     <a href='vscode-notebook-cell:/home/alex/Trading/sigbot/sigbot/ml/collect_data.ipynb#W1sZmlsZQ%3D%3D?line=38'>39</a>\u001b[0m                             \u001b[39m'\u001b[39m\u001b[39mvol_window\u001b[39m\u001b[39m'\u001b[39m: [\u001b[39m48\u001b[39m],\n\u001b[0;32m   (...)\u001b[0m\n\u001b[1;32m     <a href='vscode-notebook-cell:/home/alex/Trading/sigbot/sigbot/ml/collect_data.ipynb#W1sZmlsZQ%3D%3D?line=49'>50</a>\u001b[0m                             }\n\u001b[1;32m     <a href='vscode-notebook-cell:/home/alex/Trading/sigbot/sigbot/ml/collect_data.ipynb#W1sZmlsZQ%3D%3D?line=50'>51</a>\u001b[0m              }\n\u001b[1;32m     <a href='vscode-notebook-cell:/home/alex/Trading/sigbot/sigbot/ml/collect_data.ipynb#W1sZmlsZQ%3D%3D?line=52'>53</a>\u001b[0m opt \u001b[39m=\u001b[39m Optimizer(pattern, optim_dict, clean\u001b[39m=\u001b[39m\u001b[39mTrue\u001b[39;00m, \u001b[39m*\u001b[39m\u001b[39m*\u001b[39mconfigs)\n\u001b[0;32m---> <a href='vscode-notebook-cell:/home/alex/Trading/sigbot/sigbot/ml/collect_data.ipynb#W1sZmlsZQ%3D%3D?line=53'>54</a>\u001b[0m stat \u001b[39m=\u001b[39m opt\u001b[39m.\u001b[39;49moptimize(pattern, ttype, opt_limit, load, \u001b[39m'\u001b[39;49m\u001b[39mml\u001b[39;49m\u001b[39m'\u001b[39;49m)\n",
      "File \u001b[0;32m~/Trading/sigbot/sigbot/ml/../optimizer/optimizer.py:178\u001b[0m, in \u001b[0;36mOptimizer.optimize\u001b[0;34m(self, pattern, ttype, opt_limit, load, op_type)\u001b[0m\n\u001b[1;32m    176\u001b[0m     sb\u001b[39m.\u001b[39msave_opt_dataframes(ttype)\n\u001b[1;32m    177\u001b[0m     load \u001b[39m=\u001b[39m \u001b[39mFalse\u001b[39;00m\n\u001b[0;32m--> 178\u001b[0m sb\u001b[39m.\u001b[39;49msave_opt_statistics(ttype, opt_limit, \u001b[39mnot\u001b[39;49;00m load_tickers)\n\u001b[1;32m    179\u001b[0m \u001b[39m# save candle data from exchanges only second and next times\u001b[39;00m\n\u001b[1;32m    180\u001b[0m \u001b[39mif\u001b[39;00m load_tickers:\n",
      "File \u001b[0;32m~/Trading/sigbot/sigbot/ml/../bot/bot.py:300\u001b[0m, in \u001b[0;36mSigBot.save_opt_statistics\u001b[0;34m(self, ttype, opt_limit, opt_flag)\u001b[0m\n\u001b[1;32m    298\u001b[0m \u001b[39m# start all spot exchange monitors\u001b[39;00m\n\u001b[1;32m    299\u001b[0m \u001b[39mfor\u001b[39;00m monitor \u001b[39min\u001b[39;00m \u001b[39mself\u001b[39m\u001b[39m.\u001b[39mspot_ex_monitor_list:\n\u001b[0;32m--> 300\u001b[0m     monitor\u001b[39m.\u001b[39;49msave_opt_statistics(ttype, opt_limit, opt_flag)\n\u001b[1;32m    301\u001b[0m \u001b[39m# start all futures exchange monitors\u001b[39;00m\n\u001b[1;32m    302\u001b[0m \u001b[39mfor\u001b[39;00m monitor \u001b[39min\u001b[39;00m \u001b[39mself\u001b[39m\u001b[39m.\u001b[39mfut_ex_monitor_list:\n",
      "File \u001b[0;32m~/Trading/sigbot/sigbot/ml/../bot/bot.py:393\u001b[0m, in \u001b[0;36mMonitorExchange.save_opt_statistics\u001b[0;34m(self, ttype, opt_limit, opt_flag)\u001b[0m\n\u001b[1;32m    391\u001b[0m     df \u001b[39m=\u001b[39m \u001b[39mself\u001b[39m\u001b[39m.\u001b[39msigbot\u001b[39m.\u001b[39mdatabase[ticker][timeframe][\u001b[39m'\u001b[39m\u001b[39mdata\u001b[39m\u001b[39m'\u001b[39m][ttype]\u001b[39m.\u001b[39mcopy()\n\u001b[1;32m    392\u001b[0m \u001b[39m# Add indicators\u001b[39;00m\n\u001b[0;32m--> 393\u001b[0m \u001b[39mself\u001b[39;49m\u001b[39m.\u001b[39;49mget_indicators(df, ttype, ticker, timeframe, \u001b[39m1000\u001b[39;49m, opt_flag)\n\u001b[1;32m    394\u001b[0m \u001b[39m# If current timeframe is working timeframe\u001b[39;00m\n\u001b[1;32m    395\u001b[0m \u001b[39mif\u001b[39;00m timeframe \u001b[39m==\u001b[39m \u001b[39mself\u001b[39m\u001b[39m.\u001b[39msigbot\u001b[39m.\u001b[39mwork_timeframe:\n\u001b[1;32m    396\u001b[0m     \u001b[39m# Get the signals\u001b[39;00m\n",
      "File \u001b[0;32m~/Trading/sigbot/sigbot/ml/../bot/bot.py:28\u001b[0m, in \u001b[0;36mthread_lock.<locals>.wrapper\u001b[0;34m(*args, **kwargs)\u001b[0m\n\u001b[1;32m     25\u001b[0m \u001b[39m@functools\u001b[39m\u001b[39m.\u001b[39mwraps(function)\n\u001b[1;32m     26\u001b[0m \u001b[39mdef\u001b[39;00m \u001b[39mwrapper\u001b[39m(\u001b[39m*\u001b[39margs, \u001b[39m*\u001b[39m\u001b[39m*\u001b[39mkwargs):\n\u001b[1;32m     27\u001b[0m     \u001b[39m# wait until global lock released\u001b[39;00m\n\u001b[0;32m---> 28\u001b[0m     \u001b[39mwhile\u001b[39;00m global_lock\u001b[39m.\u001b[39;49mlocked():\n\u001b[1;32m     29\u001b[0m         \u001b[39mcontinue\u001b[39;00m\n\u001b[1;32m     30\u001b[0m     \u001b[39m# acquire lock\u001b[39;00m\n",
      "\u001b[0;31mKeyboardInterrupt\u001b[0m: "
     ]
    }
   ],
   "source": [
    "import sys\n",
    "sys.path.append('..')\n",
    "\n",
    "import numpy as np\n",
    "import pandas as pd\n",
    "from glob import glob\n",
    "from optimizer.optimizer import Optimizer\n",
    "from os import environ\n",
    "\n",
    "# Set environment variable\n",
    "environ[\"ENV\"] = \"optimize\"\n",
    "\n",
    "from config.config import ConfigFactory\n",
    "\n",
    "pd.set_option('display.max_columns', 500)\n",
    "pd.set_option('display.max_rows', 500)\n",
    "\n",
    "ttype = 'buy'\n",
    "pattern = ['Pattern', 'Trend']\n",
    "indicator_list = pattern\n",
    "indicator_list_higher = ['Trend']\n",
    "\n",
    "work_timeframe = '1h'\n",
    "higher_timeframe = '4h'\n",
    "opt_limit = 100000\n",
    "load = False\n",
    "\n",
    "print(f'Timeframe is {higher_timeframe}, trade type is {ttype}')\n",
    "\n",
    "# Get configs\n",
    "configs = ConfigFactory.factory(environ).configs\n",
    "configs['Indicator_list'] = pattern\n",
    "configs['Higher_TF_indicator_list'] = indicator_list_higher\n",
    "configs['Timeframes']['work_timeframe'] = work_timeframe\n",
    "configs['Timeframes']['higher_timeframe'] = higher_timeframe\n",
    "\n",
    "optim_dict = {\n",
    "                'Pattern': {\n",
    "                            'vol_window': [48],\n",
    "                            'vol_q_high': [0.4],\n",
    "                            'vol_q_low': [0.1],\n",
    "                            'window_low_bound': [1], \n",
    "                            'window_high_bound': [5],\n",
    "                            'first_candle': [0.6],\n",
    "                            'second_candle': [0.55],\n",
    "                            },\n",
    "                'Trend': {\n",
    "                            'timeperiod': [48],\n",
    "                            'low_bound': [0]\n",
    "                            }\n",
    "             }\n",
    "\n",
    "opt = Optimizer(pattern, optim_dict, clean=True, **configs)\n",
    "stat = opt.optimize(pattern, ttype, opt_limit, load, 'ml')\n"
   ]
  },
  {
   "attachments": {},
   "cell_type": "markdown",
   "metadata": {},
   "source": [
    "# Load Pattern sell data"
   ]
  },
  {
   "cell_type": "code",
   "execution_count": 2,
   "metadata": {},
   "outputs": [
    {
     "name": "stderr",
     "output_type": "stream",
     "text": [
      "  0%|          | 0/1 [00:00<?, ?it/s]"
     ]
    },
    {
     "name": "stdout",
     "output_type": "stream",
     "text": [
      "Timeframe is 4h, trade type is sell\n",
      "Number of combinations is 1\n"
     ]
    },
    {
     "name": "stderr",
     "output_type": "stream",
     "text": [
      "100%|██████████| 1/1 [02:00<00:00, 120.73s/it]\n"
     ]
    }
   ],
   "source": [
    "ttype = 'sell'\n",
    "pattern = ['Pattern', 'Trend']\n",
    "indicator_list = pattern\n",
    "indicator_list_higher = ['Trend']\n",
    "\n",
    "load = False\n",
    "\n",
    "print(f'Timeframe is {higher_timeframe}, trade type is {ttype}')\n",
    "\n",
    "# Get configs\n",
    "configs = ConfigFactory.factory(environ).configs\n",
    "configs['Indicator_list'] = pattern\n",
    "configs['Higher_TF_indicator_list'] = indicator_list_higher\n",
    "configs['Timeframes']['work_timeframe'] = work_timeframe\n",
    "configs['Timeframes']['higher_timeframe'] = higher_timeframe\n",
    "\n",
    "optim_dict = {\n",
    "                'Pattern': {\n",
    "                            'vol_window': [24],\n",
    "                            'vol_q_high': [0.7],\n",
    "                            'vol_q_low': [0.1],\n",
    "                            'window_low_bound': [1], \n",
    "                            'window_high_bound': [6],\n",
    "                            'first_candle': [0.55],\n",
    "                            'second_candle': [0.6],\n",
    "                            },\n",
    "                'Trend': {\n",
    "                            'timeperiod': [36],\n",
    "                            'low_bound': [0]\n",
    "                            }\n",
    "             }\n",
    "\n",
    "\n",
    "opt = Optimizer(pattern, optim_dict, clean=False, **configs)\n",
    "stat = opt.optimize(pattern, ttype, opt_limit, load, 'ml')"
   ]
  },
  {
   "attachments": {},
   "cell_type": "markdown",
   "metadata": {},
   "source": [
    "# Load RSI-STOCH buy data"
   ]
  },
  {
   "cell_type": "code",
   "execution_count": 4,
   "metadata": {},
   "outputs": [
    {
     "name": "stderr",
     "output_type": "stream",
     "text": [
      "  0%|          | 0/1 [00:00<?, ?it/s]"
     ]
    },
    {
     "name": "stdout",
     "output_type": "stream",
     "text": [
      "Timeframe is 1h/4h, trade type is buy\n",
      "Number of combinations is 1\n"
     ]
    },
    {
     "name": "stderr",
     "output_type": "stream",
     "text": [
      "100%|██████████| 1/1 [01:49<00:00, 109.77s/it]\n"
     ]
    }
   ],
   "source": [
    "ttype = 'buy'\n",
    "pattern = ['STOCH', 'RSI']\n",
    "indicator_list = pattern\n",
    "indicator_list_higher = []\n",
    "\n",
    "print(f'Timeframe is {work_timeframe}/{higher_timeframe}, trade type is {ttype}')\n",
    "\n",
    "# Get configs\n",
    "configs = ConfigFactory.factory(environ).configs\n",
    "configs['Indicator_list'] = indicator_list\n",
    "configs['Higher_TF_indicator_list'] = indicator_list_higher\n",
    "configs['Timeframes']['work_timeframe'] = work_timeframe\n",
    "configs['Timeframes']['higher_timeframe'] = higher_timeframe\n",
    "\n",
    "optim_dict = {\n",
    "                'RSI': {\n",
    "                        'timeperiod': [14], \n",
    "                        'low_bound': [35]\n",
    "                       },\n",
    "                'STOCH': {\n",
    "                          'fastk_period': [9],\n",
    "                          'slowk_period': [7],\n",
    "                          'slowd_period': [3], \n",
    "                          'low_bound': [25]\n",
    "                        },\n",
    "                'Trend': {\n",
    "                          'timeperiod': [48],\n",
    "                          'low_bound': [0]\n",
    "                        }\n",
    "             }\n",
    "\n",
    "opt = Optimizer(pattern, optim_dict, clean=False, **configs)\n",
    "stat = opt.optimize(pattern, ttype, opt_limit, load, 'ml')"
   ]
  },
  {
   "attachments": {},
   "cell_type": "markdown",
   "metadata": {},
   "source": [
    "# Load RSI-STOCH sell data"
   ]
  },
  {
   "cell_type": "code",
   "execution_count": 5,
   "metadata": {},
   "outputs": [
    {
     "name": "stderr",
     "output_type": "stream",
     "text": [
      "  0%|          | 0/1 [00:00<?, ?it/s]"
     ]
    },
    {
     "name": "stdout",
     "output_type": "stream",
     "text": [
      "Timeframe is 1h/4h, trade type is sell\n",
      "Number of combinations is 1\n"
     ]
    },
    {
     "name": "stderr",
     "output_type": "stream",
     "text": [
      "100%|██████████| 1/1 [01:48<00:00, 108.28s/it]\n"
     ]
    }
   ],
   "source": [
    "ttype = 'sell'\n",
    "pattern = ['STOCH', 'RSI']\n",
    "indicator_list = pattern\n",
    "indicator_list_higher = []\n",
    "\n",
    "print(f'Timeframe is {work_timeframe}/{higher_timeframe}, trade type is {ttype}')\n",
    "\n",
    "# Get configs\n",
    "configs = ConfigFactory.factory(environ).configs\n",
    "configs['Indicator_list'] = indicator_list\n",
    "configs['Higher_TF_indicator_list'] = indicator_list_higher\n",
    "configs['Timeframes']['work_timeframe'] = work_timeframe\n",
    "configs['Timeframes']['higher_timeframe'] = higher_timeframe\n",
    "\n",
    "optim_dict = {\n",
    "                'RSI': {\n",
    "                        'timeperiod': [14], \n",
    "                        'low_bound': [35]\n",
    "                       },\n",
    "                'STOCH': {\n",
    "                          'fastk_period': [9],\n",
    "                          'slowk_period': [7],\n",
    "                          'slowd_period': [3], \n",
    "                          'low_bound': [25]\n",
    "                        },\n",
    "                'Trend': {\n",
    "                          'timeperiod': [48],\n",
    "                          'low_bound': [0]\n",
    "                        }\n",
    "             }\n",
    "\n",
    "opt = Optimizer(pattern, optim_dict, clean=False, **configs)\n",
    "stat = opt.optimize(pattern, ttype, opt_limit, load, 'ml')"
   ]
  },
  {
   "attachments": {},
   "cell_type": "markdown",
   "metadata": {},
   "source": [
    "# Load RSI-STOCH-Trend buy data"
   ]
  },
  {
   "cell_type": "code",
   "execution_count": 6,
   "metadata": {},
   "outputs": [
    {
     "name": "stderr",
     "output_type": "stream",
     "text": [
      "  0%|          | 0/1 [00:00<?, ?it/s]"
     ]
    },
    {
     "name": "stdout",
     "output_type": "stream",
     "text": [
      "Timeframe is 1h/4h, trade type is buy\n",
      "Number of combinations is 1\n"
     ]
    },
    {
     "name": "stderr",
     "output_type": "stream",
     "text": [
      "100%|██████████| 1/1 [01:26<00:00, 86.37s/it]\n"
     ]
    }
   ],
   "source": [
    "ttype = 'buy'\n",
    "pattern = ['STOCH', 'RSI', 'Trend']\n",
    "indicator_list = pattern\n",
    "indicator_list_higher = ['Trend']\n",
    "\n",
    "print(f'Timeframe is {work_timeframe}/{higher_timeframe}, trade type is {ttype}')\n",
    "\n",
    "# Get configs\n",
    "configs = ConfigFactory.factory(environ).configs\n",
    "configs['Indicator_list'] = indicator_list\n",
    "configs['Higher_TF_indicator_list'] = indicator_list_higher\n",
    "configs['Timeframes']['work_timeframe'] = work_timeframe\n",
    "configs['Timeframes']['higher_timeframe'] = higher_timeframe\n",
    "\n",
    "optim_dict = {\n",
    "                'RSI': {\n",
    "                        'timeperiod': [14], \n",
    "                        'low_bound': [35]\n",
    "                       },\n",
    "                'STOCH': {\n",
    "                          'fastk_period': [9],\n",
    "                          'slowk_period': [7],\n",
    "                          'slowd_period': [3], \n",
    "                          'low_bound': [25]\n",
    "                        },\n",
    "                'Trend': {\n",
    "                          'timeperiod': [48],\n",
    "                          'low_bound': [0]\n",
    "                        }\n",
    "             }\n",
    "\n",
    "opt = Optimizer(pattern, optim_dict, clean=False, **configs)\n",
    "stat = opt.optimize(pattern, ttype, opt_limit, load, 'ml')"
   ]
  },
  {
   "attachments": {},
   "cell_type": "markdown",
   "metadata": {},
   "source": [
    "# Load RSI-STOCH-Trend sell data"
   ]
  },
  {
   "cell_type": "code",
   "execution_count": 7,
   "metadata": {},
   "outputs": [
    {
     "name": "stderr",
     "output_type": "stream",
     "text": [
      "  0%|          | 0/1 [00:00<?, ?it/s]"
     ]
    },
    {
     "name": "stdout",
     "output_type": "stream",
     "text": [
      "Timeframe is 1h/4h, trade type is sell\n",
      "Number of combinations is 1\n"
     ]
    },
    {
     "name": "stderr",
     "output_type": "stream",
     "text": [
      "100%|██████████| 1/1 [01:24<00:00, 84.22s/it]\n"
     ]
    }
   ],
   "source": [
    "ttype = 'sell'\n",
    "pattern = ['STOCH', 'RSI', 'Trend']\n",
    "indicator_list = pattern\n",
    "indicator_list_higher = ['Trend']\n",
    "\n",
    "print(f'Timeframe is {work_timeframe}/{higher_timeframe}, trade type is {ttype}')\n",
    "\n",
    "# Get configs\n",
    "configs = ConfigFactory.factory(environ).configs\n",
    "configs['Indicator_list'] = indicator_list\n",
    "configs['Higher_TF_indicator_list'] = indicator_list_higher\n",
    "configs['Timeframes']['work_timeframe'] = work_timeframe\n",
    "configs['Timeframes']['higher_timeframe'] = higher_timeframe\n",
    "\n",
    "optim_dict = {\n",
    "                'RSI': {\n",
    "                        'timeperiod': [14], \n",
    "                        'low_bound': [35]\n",
    "                       },\n",
    "                'STOCH': {\n",
    "                          'fastk_period': [9],\n",
    "                          'slowk_period': [7],\n",
    "                          'slowd_period': [3], \n",
    "                          'low_bound': [25]\n",
    "                        },\n",
    "                'Trend': {\n",
    "                          'timeperiod': [48],\n",
    "                          'low_bound': [0]\n",
    "                        }\n",
    "             }\n",
    "\n",
    "opt = Optimizer(pattern, optim_dict, clean=False, **configs)\n",
    "stat = opt.optimize(pattern, ttype, opt_limit, load, 'ml')"
   ]
  }
 ],
 "metadata": {
  "kernelspec": {
   "display_name": "sigbot",
   "language": "python",
   "name": "python3"
  },
  "language_info": {
   "codemirror_mode": {
    "name": "ipython",
    "version": 3
   },
   "file_extension": ".py",
   "mimetype": "text/x-python",
   "name": "python",
   "nbconvert_exporter": "python",
   "pygments_lexer": "ipython3",
   "version": "3.10.5"
  },
  "orig_nbformat": 4
 },
 "nbformat": 4,
 "nbformat_minor": 2
}
