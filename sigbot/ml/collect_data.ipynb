{
 "cells": [
  {
   "attachments": {},
   "cell_type": "markdown",
   "metadata": {},
   "source": [
    "# Load Pattern buy data"
   ]
  },
  {
   "cell_type": "code",
   "execution_count": 2,
   "metadata": {},
   "outputs": [
    {
     "name": "stdout",
     "output_type": "stream",
     "text": [
      "Timeframe is 1h, trade type is buy\n",
      "Number of combinations is 1\n"
     ]
    },
    {
     "name": "stderr",
     "output_type": "stream",
     "text": [
      "  0%|          | 0/1 [00:00<?, ?it/s]"
     ]
    },
    {
     "name": "stdout",
     "output_type": "stream",
     "text": [
      "\n",
      "Load the datasets...\n",
      "Binance\n"
     ]
    },
    {
     "name": "stderr",
     "output_type": "stream",
     "text": [
      "  0%|          | 0/1 [01:15<?, ?it/s]\n"
     ]
    },
    {
     "ename": "KeyboardInterrupt",
     "evalue": "",
     "output_type": "error",
     "traceback": [
      "\u001b[0;31m---------------------------------------------------------------------------\u001b[0m",
      "\u001b[0;31mKeyboardInterrupt\u001b[0m                         Traceback (most recent call last)",
      "\u001b[1;32m/home/alex/Trading/sigbot/sigbot/ml/collect_data.ipynb Cell 2\u001b[0m in \u001b[0;36m<cell line: 57>\u001b[0;34m()\u001b[0m\n\u001b[1;32m     <a href='vscode-notebook-cell:/home/alex/Trading/sigbot/sigbot/ml/collect_data.ipynb#W1sZmlsZQ%3D%3D?line=39'>40</a>\u001b[0m optim_dict \u001b[39m=\u001b[39m {\n\u001b[1;32m     <a href='vscode-notebook-cell:/home/alex/Trading/sigbot/sigbot/ml/collect_data.ipynb#W1sZmlsZQ%3D%3D?line=40'>41</a>\u001b[0m                 \u001b[39m'\u001b[39m\u001b[39mPattern\u001b[39m\u001b[39m'\u001b[39m: {\n\u001b[1;32m     <a href='vscode-notebook-cell:/home/alex/Trading/sigbot/sigbot/ml/collect_data.ipynb#W1sZmlsZQ%3D%3D?line=41'>42</a>\u001b[0m                             \u001b[39m'\u001b[39m\u001b[39mvol_window\u001b[39m\u001b[39m'\u001b[39m: [\u001b[39m96\u001b[39m],\n\u001b[0;32m   (...)\u001b[0m\n\u001b[1;32m     <a href='vscode-notebook-cell:/home/alex/Trading/sigbot/sigbot/ml/collect_data.ipynb#W1sZmlsZQ%3D%3D?line=52'>53</a>\u001b[0m                             }\n\u001b[1;32m     <a href='vscode-notebook-cell:/home/alex/Trading/sigbot/sigbot/ml/collect_data.ipynb#W1sZmlsZQ%3D%3D?line=53'>54</a>\u001b[0m              }\n\u001b[1;32m     <a href='vscode-notebook-cell:/home/alex/Trading/sigbot/sigbot/ml/collect_data.ipynb#W1sZmlsZQ%3D%3D?line=55'>56</a>\u001b[0m opt \u001b[39m=\u001b[39m Optimizer(pattern, optim_dict, clean\u001b[39m=\u001b[39m\u001b[39mTrue\u001b[39;00m, \u001b[39m*\u001b[39m\u001b[39m*\u001b[39mconfigs)\n\u001b[0;32m---> <a href='vscode-notebook-cell:/home/alex/Trading/sigbot/sigbot/ml/collect_data.ipynb#W1sZmlsZQ%3D%3D?line=56'>57</a>\u001b[0m stat \u001b[39m=\u001b[39m opt\u001b[39m.\u001b[39;49moptimize(pattern, ttype, opt_limit, load, \u001b[39m'\u001b[39;49m\u001b[39mml\u001b[39;49m\u001b[39m'\u001b[39;49m)\n",
      "File \u001b[0;32m~/Trading/sigbot/sigbot/ml/../optimizer/optimizer.py:176\u001b[0m, in \u001b[0;36mOptimizer.optimize\u001b[0;34m(self, pattern, ttype, opt_limit, load, op_type)\u001b[0m\n\u001b[1;32m    173\u001b[0m \u001b[39m# load candle data from exchanges only at first time\u001b[39;00m\n\u001b[1;32m    174\u001b[0m \u001b[39mif\u001b[39;00m load:\n\u001b[1;32m    175\u001b[0m     \u001b[39m# self.clean_prev_tickers_dfs()\u001b[39;00m\n\u001b[0;32m--> 176\u001b[0m     sb\u001b[39m.\u001b[39;49msave_opt_dataframes(ttype)\n\u001b[1;32m    177\u001b[0m     load \u001b[39m=\u001b[39m \u001b[39mFalse\u001b[39;00m\n\u001b[1;32m    178\u001b[0m sb\u001b[39m.\u001b[39msave_opt_statistics(ttype, opt_limit, \u001b[39mnot\u001b[39;00m load_tickers)\n",
      "File \u001b[0;32m~/Trading/sigbot/sigbot/ml/../bot/bot.py:290\u001b[0m, in \u001b[0;36mSigBot.save_opt_dataframes\u001b[0;34m(self, load)\u001b[0m\n\u001b[1;32m    288\u001b[0m \u001b[39m# start all spot exchange monitors\u001b[39;00m\n\u001b[1;32m    289\u001b[0m \u001b[39mfor\u001b[39;00m monitor \u001b[39min\u001b[39;00m \u001b[39mself\u001b[39m\u001b[39m.\u001b[39mspot_ex_monitor_list:\n\u001b[0;32m--> 290\u001b[0m     monitor\u001b[39m.\u001b[39;49msave_opt_dataframes(dt_now)\n\u001b[1;32m    291\u001b[0m \u001b[39m# start all futures exchange monitors\u001b[39;00m\n\u001b[1;32m    292\u001b[0m \u001b[39mfor\u001b[39;00m monitor \u001b[39min\u001b[39;00m \u001b[39mself\u001b[39m\u001b[39m.\u001b[39mfut_ex_monitor_list:\n",
      "File \u001b[0;32m~/Trading/sigbot/sigbot/ml/../bot/bot.py:362\u001b[0m, in \u001b[0;36mMonitorExchange.save_opt_dataframes\u001b[0;34m(self, dt_now)\u001b[0m\n\u001b[1;32m    359\u001b[0m \u001b[39mfor\u001b[39;00m ticker \u001b[39min\u001b[39;00m tickers:\n\u001b[1;32m    360\u001b[0m     \u001b[39m# For every timeframe get the data and find the signal\u001b[39;00m\n\u001b[1;32m    361\u001b[0m     \u001b[39mfor\u001b[39;00m timeframe \u001b[39min\u001b[39;00m \u001b[39mself\u001b[39m\u001b[39m.\u001b[39msigbot\u001b[39m.\u001b[39mtimeframes:\n\u001b[0;32m--> 362\u001b[0m         df, data_qty \u001b[39m=\u001b[39m \u001b[39mself\u001b[39;49m\u001b[39m.\u001b[39;49msigbot\u001b[39m.\u001b[39;49mget_data(exchange_api, ticker, timeframe, dt_now)\n\u001b[1;32m    363\u001b[0m         \u001b[39m# If we previously download this dataframe to the disk - update it with new data\u001b[39;00m\n\u001b[1;32m    364\u001b[0m         \u001b[39mtry\u001b[39;00m:\n",
      "File \u001b[0;32m~/Trading/sigbot/sigbot/ml/../bot/bot.py:152\u001b[0m, in \u001b[0;36mSigBot.get_data\u001b[0;34m(self, exchange_api, ticker, timeframe, dt_now)\u001b[0m\n\u001b[1;32m    150\u001b[0m \u001b[39m# Write data to the dataframe\u001b[39;00m\n\u001b[1;32m    151\u001b[0m \u001b[39mtry\u001b[39;00m:\n\u001b[0;32m--> 152\u001b[0m     df, data_qty \u001b[39m=\u001b[39m exchange_api\u001b[39m.\u001b[39;49mget_data(df, ticker, timeframe, dt_now)\n\u001b[1;32m    153\u001b[0m \u001b[39mexcept\u001b[39;00m \u001b[39mKeyError\u001b[39;00m:\n\u001b[1;32m    154\u001b[0m     logger\u001b[39m.\u001b[39mexception(\u001b[39mf\u001b[39m\u001b[39m'\u001b[39m\u001b[39mCatch an exception while trying to get data\u001b[39m\u001b[39m'\u001b[39m)\n",
      "File \u001b[0;32m~/Trading/sigbot/sigbot/ml/../data/get_data.py:60\u001b[0m, in \u001b[0;36mGetData.get_data\u001b[0;34m(self, df, ticker, timeframe, dt_now)\u001b[0m\n\u001b[1;32m     58\u001b[0m \u001b[39mif\u001b[39;00m limit \u001b[39m>\u001b[39m \u001b[39m1\u001b[39m:\n\u001b[1;32m     59\u001b[0m     \u001b[39mtry\u001b[39;00m:\n\u001b[0;32m---> 60\u001b[0m         klines \u001b[39m=\u001b[39m \u001b[39mself\u001b[39;49m\u001b[39m.\u001b[39;49mapi\u001b[39m.\u001b[39;49mget_klines(ticker, timeframe, limit \u001b[39m+\u001b[39;49m \u001b[39m2\u001b[39;49m)\n\u001b[1;32m     61\u001b[0m     \u001b[39mexcept\u001b[39;00m (requests\u001b[39m.\u001b[39mexceptions\u001b[39m.\u001b[39mConnectionError, requests\u001b[39m.\u001b[39mexceptions\u001b[39m.\u001b[39mReadTimeout, JSONDecodeError):\n\u001b[1;32m     62\u001b[0m         logger\u001b[39m.\u001b[39mexception(\u001b[39mf\u001b[39m\u001b[39m'\u001b[39m\u001b[39mCatch an exception while trying to get data. API is \u001b[39m\u001b[39m{\u001b[39;00m\u001b[39mself\u001b[39m\u001b[39m.\u001b[39mapi\u001b[39m}\u001b[39;00m\u001b[39m'\u001b[39m)\n",
      "File \u001b[0;32m~/Trading/sigbot/sigbot/ml/../api/binance_api.py:54\u001b[0m, in \u001b[0;36mBinance.get_klines\u001b[0;34m(self, symbol, interval, limit)\u001b[0m\n\u001b[1;32m     52\u001b[0m \u001b[39mdef\u001b[39;00m \u001b[39mget_klines\u001b[39m(\u001b[39mself\u001b[39m, symbol, interval, limit) \u001b[39m-\u001b[39m\u001b[39m>\u001b[39m pd\u001b[39m.\u001b[39mDataFrame:\n\u001b[1;32m     53\u001b[0m     \u001b[39m\"\"\" Save time, price and volume info to CryptoCurrency structure \"\"\"\u001b[39;00m\n\u001b[0;32m---> 54\u001b[0m     tickers \u001b[39m=\u001b[39m pd\u001b[39m.\u001b[39mDataFrame(\u001b[39mself\u001b[39;49m\u001b[39m.\u001b[39;49mclient\u001b[39m.\u001b[39;49mget_klines(symbol\u001b[39m=\u001b[39;49msymbol, interval\u001b[39m=\u001b[39;49minterval, limit\u001b[39m=\u001b[39;49mlimit))\n\u001b[1;32m     55\u001b[0m     tickers \u001b[39m=\u001b[39m tickers\u001b[39m.\u001b[39mrename({\u001b[39m0\u001b[39m: \u001b[39m'\u001b[39m\u001b[39mtime\u001b[39m\u001b[39m'\u001b[39m, \u001b[39m1\u001b[39m: \u001b[39m'\u001b[39m\u001b[39mopen\u001b[39m\u001b[39m'\u001b[39m, \u001b[39m2\u001b[39m: \u001b[39m'\u001b[39m\u001b[39mhigh\u001b[39m\u001b[39m'\u001b[39m, \u001b[39m3\u001b[39m: \u001b[39m'\u001b[39m\u001b[39mlow\u001b[39m\u001b[39m'\u001b[39m, \u001b[39m4\u001b[39m: \u001b[39m'\u001b[39m\u001b[39mclose\u001b[39m\u001b[39m'\u001b[39m, \u001b[39m5\u001b[39m: \u001b[39m'\u001b[39m\u001b[39mvolume\u001b[39m\u001b[39m'\u001b[39m}, axis\u001b[39m=\u001b[39m\u001b[39m1\u001b[39m)\n\u001b[1;32m     56\u001b[0m     \u001b[39mreturn\u001b[39;00m tickers[[\u001b[39m'\u001b[39m\u001b[39mtime\u001b[39m\u001b[39m'\u001b[39m, \u001b[39m'\u001b[39m\u001b[39mopen\u001b[39m\u001b[39m'\u001b[39m, \u001b[39m'\u001b[39m\u001b[39mhigh\u001b[39m\u001b[39m'\u001b[39m, \u001b[39m'\u001b[39m\u001b[39mlow\u001b[39m\u001b[39m'\u001b[39m, \u001b[39m'\u001b[39m\u001b[39mclose\u001b[39m\u001b[39m'\u001b[39m, \u001b[39m'\u001b[39m\u001b[39mvolume\u001b[39m\u001b[39m'\u001b[39m]]\n",
      "File \u001b[0;32m~/anaconda3/envs/sigbot/lib/python3.10/site-packages/binance/client.py:868\u001b[0m, in \u001b[0;36mClient.get_klines\u001b[0;34m(self, **params)\u001b[0m\n\u001b[1;32m    828\u001b[0m \u001b[39mdef\u001b[39;00m \u001b[39mget_klines\u001b[39m(\u001b[39mself\u001b[39m, \u001b[39m*\u001b[39m\u001b[39m*\u001b[39mparams) \u001b[39m-\u001b[39m\u001b[39m>\u001b[39m Dict:\n\u001b[1;32m    829\u001b[0m     \u001b[39m\"\"\"Kline/candlestick bars for a symbol. Klines are uniquely identified by their open time.\u001b[39;00m\n\u001b[1;32m    830\u001b[0m \n\u001b[1;32m    831\u001b[0m \u001b[39m    https://binance-docs.github.io/apidocs/spot/en/#kline-candlestick-data\u001b[39;00m\n\u001b[0;32m   (...)\u001b[0m\n\u001b[1;32m    866\u001b[0m \n\u001b[1;32m    867\u001b[0m \u001b[39m    \"\"\"\u001b[39;00m\n\u001b[0;32m--> 868\u001b[0m     \u001b[39mreturn\u001b[39;00m \u001b[39mself\u001b[39;49m\u001b[39m.\u001b[39;49m_get(\u001b[39m'\u001b[39;49m\u001b[39mklines\u001b[39;49m\u001b[39m'\u001b[39;49m, data\u001b[39m=\u001b[39;49mparams, version\u001b[39m=\u001b[39;49m\u001b[39mself\u001b[39;49m\u001b[39m.\u001b[39;49mPRIVATE_API_VERSION)\n",
      "File \u001b[0;32m~/anaconda3/envs/sigbot/lib/python3.10/site-packages/binance/client.py:371\u001b[0m, in \u001b[0;36mClient._get\u001b[0;34m(self, path, signed, version, **kwargs)\u001b[0m\n\u001b[1;32m    370\u001b[0m \u001b[39mdef\u001b[39;00m \u001b[39m_get\u001b[39m(\u001b[39mself\u001b[39m, path, signed\u001b[39m=\u001b[39m\u001b[39mFalse\u001b[39;00m, version\u001b[39m=\u001b[39mBaseClient\u001b[39m.\u001b[39mPUBLIC_API_VERSION, \u001b[39m*\u001b[39m\u001b[39m*\u001b[39mkwargs):\n\u001b[0;32m--> 371\u001b[0m     \u001b[39mreturn\u001b[39;00m \u001b[39mself\u001b[39;49m\u001b[39m.\u001b[39;49m_request_api(\u001b[39m'\u001b[39;49m\u001b[39mget\u001b[39;49m\u001b[39m'\u001b[39;49m, path, signed, version, \u001b[39m*\u001b[39;49m\u001b[39m*\u001b[39;49mkwargs)\n",
      "File \u001b[0;32m~/anaconda3/envs/sigbot/lib/python3.10/site-packages/binance/client.py:334\u001b[0m, in \u001b[0;36mClient._request_api\u001b[0;34m(self, method, path, signed, version, **kwargs)\u001b[0m\n\u001b[1;32m    330\u001b[0m \u001b[39mdef\u001b[39;00m \u001b[39m_request_api\u001b[39m(\n\u001b[1;32m    331\u001b[0m     \u001b[39mself\u001b[39m, method, path: \u001b[39mstr\u001b[39m, signed: \u001b[39mbool\u001b[39m \u001b[39m=\u001b[39m \u001b[39mFalse\u001b[39;00m, version\u001b[39m=\u001b[39mBaseClient\u001b[39m.\u001b[39mPUBLIC_API_VERSION, \u001b[39m*\u001b[39m\u001b[39m*\u001b[39mkwargs\n\u001b[1;32m    332\u001b[0m ):\n\u001b[1;32m    333\u001b[0m     uri \u001b[39m=\u001b[39m \u001b[39mself\u001b[39m\u001b[39m.\u001b[39m_create_api_uri(path, signed, version)\n\u001b[0;32m--> 334\u001b[0m     \u001b[39mreturn\u001b[39;00m \u001b[39mself\u001b[39;49m\u001b[39m.\u001b[39;49m_request(method, uri, signed, \u001b[39m*\u001b[39;49m\u001b[39m*\u001b[39;49mkwargs)\n",
      "File \u001b[0;32m~/anaconda3/envs/sigbot/lib/python3.10/site-packages/binance/client.py:314\u001b[0m, in \u001b[0;36mClient._request\u001b[0;34m(self, method, uri, signed, force_params, **kwargs)\u001b[0m\n\u001b[1;32m    310\u001b[0m \u001b[39mdef\u001b[39;00m \u001b[39m_request\u001b[39m(\u001b[39mself\u001b[39m, method, uri: \u001b[39mstr\u001b[39m, signed: \u001b[39mbool\u001b[39m, force_params: \u001b[39mbool\u001b[39m \u001b[39m=\u001b[39m \u001b[39mFalse\u001b[39;00m, \u001b[39m*\u001b[39m\u001b[39m*\u001b[39mkwargs):\n\u001b[1;32m    312\u001b[0m     kwargs \u001b[39m=\u001b[39m \u001b[39mself\u001b[39m\u001b[39m.\u001b[39m_get_request_kwargs(method, signed, force_params, \u001b[39m*\u001b[39m\u001b[39m*\u001b[39mkwargs)\n\u001b[0;32m--> 314\u001b[0m     \u001b[39mself\u001b[39m\u001b[39m.\u001b[39mresponse \u001b[39m=\u001b[39m \u001b[39mgetattr\u001b[39;49m(\u001b[39mself\u001b[39;49m\u001b[39m.\u001b[39;49msession, method)(uri, \u001b[39m*\u001b[39;49m\u001b[39m*\u001b[39;49mkwargs)\n\u001b[1;32m    315\u001b[0m     \u001b[39mreturn\u001b[39;00m \u001b[39mself\u001b[39m\u001b[39m.\u001b[39m_handle_response(\u001b[39mself\u001b[39m\u001b[39m.\u001b[39mresponse)\n",
      "File \u001b[0;32m~/anaconda3/envs/sigbot/lib/python3.10/site-packages/requests/sessions.py:600\u001b[0m, in \u001b[0;36mSession.get\u001b[0;34m(self, url, **kwargs)\u001b[0m\n\u001b[1;32m    592\u001b[0m \u001b[39mr\u001b[39m\u001b[39m\"\"\"Sends a GET request. Returns :class:`Response` object.\u001b[39;00m\n\u001b[1;32m    593\u001b[0m \n\u001b[1;32m    594\u001b[0m \u001b[39m:param url: URL for the new :class:`Request` object.\u001b[39;00m\n\u001b[1;32m    595\u001b[0m \u001b[39m:param \\*\\*kwargs: Optional arguments that ``request`` takes.\u001b[39;00m\n\u001b[1;32m    596\u001b[0m \u001b[39m:rtype: requests.Response\u001b[39;00m\n\u001b[1;32m    597\u001b[0m \u001b[39m\"\"\"\u001b[39;00m\n\u001b[1;32m    599\u001b[0m kwargs\u001b[39m.\u001b[39msetdefault(\u001b[39m\"\u001b[39m\u001b[39mallow_redirects\u001b[39m\u001b[39m\"\u001b[39m, \u001b[39mTrue\u001b[39;00m)\n\u001b[0;32m--> 600\u001b[0m \u001b[39mreturn\u001b[39;00m \u001b[39mself\u001b[39;49m\u001b[39m.\u001b[39;49mrequest(\u001b[39m\"\u001b[39;49m\u001b[39mGET\u001b[39;49m\u001b[39m\"\u001b[39;49m, url, \u001b[39m*\u001b[39;49m\u001b[39m*\u001b[39;49mkwargs)\n",
      "File \u001b[0;32m~/anaconda3/envs/sigbot/lib/python3.10/site-packages/requests/sessions.py:587\u001b[0m, in \u001b[0;36mSession.request\u001b[0;34m(self, method, url, params, data, headers, cookies, files, auth, timeout, allow_redirects, proxies, hooks, stream, verify, cert, json)\u001b[0m\n\u001b[1;32m    582\u001b[0m send_kwargs \u001b[39m=\u001b[39m {\n\u001b[1;32m    583\u001b[0m     \u001b[39m\"\u001b[39m\u001b[39mtimeout\u001b[39m\u001b[39m\"\u001b[39m: timeout,\n\u001b[1;32m    584\u001b[0m     \u001b[39m\"\u001b[39m\u001b[39mallow_redirects\u001b[39m\u001b[39m\"\u001b[39m: allow_redirects,\n\u001b[1;32m    585\u001b[0m }\n\u001b[1;32m    586\u001b[0m send_kwargs\u001b[39m.\u001b[39mupdate(settings)\n\u001b[0;32m--> 587\u001b[0m resp \u001b[39m=\u001b[39m \u001b[39mself\u001b[39;49m\u001b[39m.\u001b[39;49msend(prep, \u001b[39m*\u001b[39;49m\u001b[39m*\u001b[39;49msend_kwargs)\n\u001b[1;32m    589\u001b[0m \u001b[39mreturn\u001b[39;00m resp\n",
      "File \u001b[0;32m~/anaconda3/envs/sigbot/lib/python3.10/site-packages/requests/sessions.py:745\u001b[0m, in \u001b[0;36mSession.send\u001b[0;34m(self, request, **kwargs)\u001b[0m\n\u001b[1;32m    742\u001b[0m         \u001b[39mpass\u001b[39;00m\n\u001b[1;32m    744\u001b[0m \u001b[39mif\u001b[39;00m \u001b[39mnot\u001b[39;00m stream:\n\u001b[0;32m--> 745\u001b[0m     r\u001b[39m.\u001b[39;49mcontent\n\u001b[1;32m    747\u001b[0m \u001b[39mreturn\u001b[39;00m r\n",
      "File \u001b[0;32m~/anaconda3/envs/sigbot/lib/python3.10/site-packages/requests/models.py:899\u001b[0m, in \u001b[0;36mResponse.content\u001b[0;34m(self)\u001b[0m\n\u001b[1;32m    897\u001b[0m         \u001b[39mself\u001b[39m\u001b[39m.\u001b[39m_content \u001b[39m=\u001b[39m \u001b[39mNone\u001b[39;00m\n\u001b[1;32m    898\u001b[0m     \u001b[39melse\u001b[39;00m:\n\u001b[0;32m--> 899\u001b[0m         \u001b[39mself\u001b[39m\u001b[39m.\u001b[39m_content \u001b[39m=\u001b[39m \u001b[39mb\u001b[39;49m\u001b[39m\"\u001b[39;49m\u001b[39m\"\u001b[39;49m\u001b[39m.\u001b[39;49mjoin(\u001b[39mself\u001b[39;49m\u001b[39m.\u001b[39;49miter_content(CONTENT_CHUNK_SIZE)) \u001b[39mor\u001b[39;00m \u001b[39mb\u001b[39m\u001b[39m\"\u001b[39m\u001b[39m\"\u001b[39m\n\u001b[1;32m    901\u001b[0m \u001b[39mself\u001b[39m\u001b[39m.\u001b[39m_content_consumed \u001b[39m=\u001b[39m \u001b[39mTrue\u001b[39;00m\n\u001b[1;32m    902\u001b[0m \u001b[39m# don't need to release the connection; that's been handled by urllib3\u001b[39;00m\n\u001b[1;32m    903\u001b[0m \u001b[39m# since we exhausted the data.\u001b[39;00m\n",
      "File \u001b[0;32m~/anaconda3/envs/sigbot/lib/python3.10/site-packages/requests/models.py:816\u001b[0m, in \u001b[0;36mResponse.iter_content.<locals>.generate\u001b[0;34m()\u001b[0m\n\u001b[1;32m    814\u001b[0m \u001b[39mif\u001b[39;00m \u001b[39mhasattr\u001b[39m(\u001b[39mself\u001b[39m\u001b[39m.\u001b[39mraw, \u001b[39m\"\u001b[39m\u001b[39mstream\u001b[39m\u001b[39m\"\u001b[39m):\n\u001b[1;32m    815\u001b[0m     \u001b[39mtry\u001b[39;00m:\n\u001b[0;32m--> 816\u001b[0m         \u001b[39myield from\u001b[39;00m \u001b[39mself\u001b[39m\u001b[39m.\u001b[39mraw\u001b[39m.\u001b[39mstream(chunk_size, decode_content\u001b[39m=\u001b[39m\u001b[39mTrue\u001b[39;00m)\n\u001b[1;32m    817\u001b[0m     \u001b[39mexcept\u001b[39;00m ProtocolError \u001b[39mas\u001b[39;00m e:\n\u001b[1;32m    818\u001b[0m         \u001b[39mraise\u001b[39;00m ChunkedEncodingError(e)\n",
      "File \u001b[0;32m~/anaconda3/envs/sigbot/lib/python3.10/site-packages/urllib3/response.py:627\u001b[0m, in \u001b[0;36mHTTPResponse.stream\u001b[0;34m(self, amt, decode_content)\u001b[0m\n\u001b[1;32m    625\u001b[0m \u001b[39melse\u001b[39;00m:\n\u001b[1;32m    626\u001b[0m     \u001b[39mwhile\u001b[39;00m \u001b[39mnot\u001b[39;00m is_fp_closed(\u001b[39mself\u001b[39m\u001b[39m.\u001b[39m_fp):\n\u001b[0;32m--> 627\u001b[0m         data \u001b[39m=\u001b[39m \u001b[39mself\u001b[39;49m\u001b[39m.\u001b[39;49mread(amt\u001b[39m=\u001b[39;49mamt, decode_content\u001b[39m=\u001b[39;49mdecode_content)\n\u001b[1;32m    629\u001b[0m         \u001b[39mif\u001b[39;00m data:\n\u001b[1;32m    630\u001b[0m             \u001b[39myield\u001b[39;00m data\n",
      "File \u001b[0;32m~/anaconda3/envs/sigbot/lib/python3.10/site-packages/urllib3/response.py:566\u001b[0m, in \u001b[0;36mHTTPResponse.read\u001b[0;34m(self, amt, decode_content, cache_content)\u001b[0m\n\u001b[1;32m    563\u001b[0m fp_closed \u001b[39m=\u001b[39m \u001b[39mgetattr\u001b[39m(\u001b[39mself\u001b[39m\u001b[39m.\u001b[39m_fp, \u001b[39m\"\u001b[39m\u001b[39mclosed\u001b[39m\u001b[39m\"\u001b[39m, \u001b[39mFalse\u001b[39;00m)\n\u001b[1;32m    565\u001b[0m \u001b[39mwith\u001b[39;00m \u001b[39mself\u001b[39m\u001b[39m.\u001b[39m_error_catcher():\n\u001b[0;32m--> 566\u001b[0m     data \u001b[39m=\u001b[39m \u001b[39mself\u001b[39;49m\u001b[39m.\u001b[39;49m_fp_read(amt) \u001b[39mif\u001b[39;00m \u001b[39mnot\u001b[39;00m fp_closed \u001b[39melse\u001b[39;00m \u001b[39mb\u001b[39m\u001b[39m\"\u001b[39m\u001b[39m\"\u001b[39m\n\u001b[1;32m    567\u001b[0m     \u001b[39mif\u001b[39;00m amt \u001b[39mis\u001b[39;00m \u001b[39mNone\u001b[39;00m:\n\u001b[1;32m    568\u001b[0m         flush_decoder \u001b[39m=\u001b[39m \u001b[39mTrue\u001b[39;00m\n",
      "File \u001b[0;32m~/anaconda3/envs/sigbot/lib/python3.10/site-packages/urllib3/response.py:532\u001b[0m, in \u001b[0;36mHTTPResponse._fp_read\u001b[0;34m(self, amt)\u001b[0m\n\u001b[1;32m    529\u001b[0m     \u001b[39mreturn\u001b[39;00m buffer\u001b[39m.\u001b[39mgetvalue()\n\u001b[1;32m    530\u001b[0m \u001b[39melse\u001b[39;00m:\n\u001b[1;32m    531\u001b[0m     \u001b[39m# StringIO doesn't like amt=None\u001b[39;00m\n\u001b[0;32m--> 532\u001b[0m     \u001b[39mreturn\u001b[39;00m \u001b[39mself\u001b[39;49m\u001b[39m.\u001b[39;49m_fp\u001b[39m.\u001b[39;49mread(amt) \u001b[39mif\u001b[39;00m amt \u001b[39mis\u001b[39;00m \u001b[39mnot\u001b[39;00m \u001b[39mNone\u001b[39;00m \u001b[39melse\u001b[39;00m \u001b[39mself\u001b[39m\u001b[39m.\u001b[39m_fp\u001b[39m.\u001b[39mread()\n",
      "File \u001b[0;32m~/anaconda3/envs/sigbot/lib/python3.10/http/client.py:465\u001b[0m, in \u001b[0;36mHTTPResponse.read\u001b[0;34m(self, amt)\u001b[0m\n\u001b[1;32m    462\u001b[0m \u001b[39mif\u001b[39;00m \u001b[39mself\u001b[39m\u001b[39m.\u001b[39mlength \u001b[39mis\u001b[39;00m \u001b[39mnot\u001b[39;00m \u001b[39mNone\u001b[39;00m \u001b[39mand\u001b[39;00m amt \u001b[39m>\u001b[39m \u001b[39mself\u001b[39m\u001b[39m.\u001b[39mlength:\n\u001b[1;32m    463\u001b[0m     \u001b[39m# clip the read to the \"end of response\"\u001b[39;00m\n\u001b[1;32m    464\u001b[0m     amt \u001b[39m=\u001b[39m \u001b[39mself\u001b[39m\u001b[39m.\u001b[39mlength\n\u001b[0;32m--> 465\u001b[0m s \u001b[39m=\u001b[39m \u001b[39mself\u001b[39;49m\u001b[39m.\u001b[39;49mfp\u001b[39m.\u001b[39;49mread(amt)\n\u001b[1;32m    466\u001b[0m \u001b[39mif\u001b[39;00m \u001b[39mnot\u001b[39;00m s \u001b[39mand\u001b[39;00m amt:\n\u001b[1;32m    467\u001b[0m     \u001b[39m# Ideally, we would raise IncompleteRead if the content-length\u001b[39;00m\n\u001b[1;32m    468\u001b[0m     \u001b[39m# wasn't satisfied, but it might break compatibility.\u001b[39;00m\n\u001b[1;32m    469\u001b[0m     \u001b[39mself\u001b[39m\u001b[39m.\u001b[39m_close_conn()\n",
      "File \u001b[0;32m~/anaconda3/envs/sigbot/lib/python3.10/socket.py:705\u001b[0m, in \u001b[0;36mSocketIO.readinto\u001b[0;34m(self, b)\u001b[0m\n\u001b[1;32m    703\u001b[0m \u001b[39mwhile\u001b[39;00m \u001b[39mTrue\u001b[39;00m:\n\u001b[1;32m    704\u001b[0m     \u001b[39mtry\u001b[39;00m:\n\u001b[0;32m--> 705\u001b[0m         \u001b[39mreturn\u001b[39;00m \u001b[39mself\u001b[39;49m\u001b[39m.\u001b[39;49m_sock\u001b[39m.\u001b[39;49mrecv_into(b)\n\u001b[1;32m    706\u001b[0m     \u001b[39mexcept\u001b[39;00m timeout:\n\u001b[1;32m    707\u001b[0m         \u001b[39mself\u001b[39m\u001b[39m.\u001b[39m_timeout_occurred \u001b[39m=\u001b[39m \u001b[39mTrue\u001b[39;00m\n",
      "File \u001b[0;32m~/anaconda3/envs/sigbot/lib/python3.10/ssl.py:1274\u001b[0m, in \u001b[0;36mSSLSocket.recv_into\u001b[0;34m(self, buffer, nbytes, flags)\u001b[0m\n\u001b[1;32m   1270\u001b[0m     \u001b[39mif\u001b[39;00m flags \u001b[39m!=\u001b[39m \u001b[39m0\u001b[39m:\n\u001b[1;32m   1271\u001b[0m         \u001b[39mraise\u001b[39;00m \u001b[39mValueError\u001b[39;00m(\n\u001b[1;32m   1272\u001b[0m           \u001b[39m\"\u001b[39m\u001b[39mnon-zero flags not allowed in calls to recv_into() on \u001b[39m\u001b[39m%s\u001b[39;00m\u001b[39m\"\u001b[39m \u001b[39m%\u001b[39m\n\u001b[1;32m   1273\u001b[0m           \u001b[39mself\u001b[39m\u001b[39m.\u001b[39m\u001b[39m__class__\u001b[39m)\n\u001b[0;32m-> 1274\u001b[0m     \u001b[39mreturn\u001b[39;00m \u001b[39mself\u001b[39;49m\u001b[39m.\u001b[39;49mread(nbytes, buffer)\n\u001b[1;32m   1275\u001b[0m \u001b[39melse\u001b[39;00m:\n\u001b[1;32m   1276\u001b[0m     \u001b[39mreturn\u001b[39;00m \u001b[39msuper\u001b[39m()\u001b[39m.\u001b[39mrecv_into(buffer, nbytes, flags)\n",
      "File \u001b[0;32m~/anaconda3/envs/sigbot/lib/python3.10/ssl.py:1130\u001b[0m, in \u001b[0;36mSSLSocket.read\u001b[0;34m(self, len, buffer)\u001b[0m\n\u001b[1;32m   1128\u001b[0m \u001b[39mtry\u001b[39;00m:\n\u001b[1;32m   1129\u001b[0m     \u001b[39mif\u001b[39;00m buffer \u001b[39mis\u001b[39;00m \u001b[39mnot\u001b[39;00m \u001b[39mNone\u001b[39;00m:\n\u001b[0;32m-> 1130\u001b[0m         \u001b[39mreturn\u001b[39;00m \u001b[39mself\u001b[39;49m\u001b[39m.\u001b[39;49m_sslobj\u001b[39m.\u001b[39;49mread(\u001b[39mlen\u001b[39;49m, buffer)\n\u001b[1;32m   1131\u001b[0m     \u001b[39melse\u001b[39;00m:\n\u001b[1;32m   1132\u001b[0m         \u001b[39mreturn\u001b[39;00m \u001b[39mself\u001b[39m\u001b[39m.\u001b[39m_sslobj\u001b[39m.\u001b[39mread(\u001b[39mlen\u001b[39m)\n",
      "\u001b[0;31mKeyboardInterrupt\u001b[0m: "
     ]
    }
   ],
   "source": [
    "import warnings\n",
    "warnings.simplefilter(action='ignore', category=FutureWarning)\n",
    "\n",
    "import sys\n",
    "sys.path.append('..')\n",
    "\n",
    "import numpy as np\n",
    "import pandas as pd\n",
    "from glob import glob\n",
    "from optimizer.optimizer import Optimizer\n",
    "from os import environ\n",
    "\n",
    "# Set environment variable\n",
    "environ[\"ENV\"] = \"optimize\"\n",
    "\n",
    "from config.config import ConfigFactory\n",
    "\n",
    "pd.set_option('display.max_columns', 500)\n",
    "pd.set_option('display.max_rows', 500)\n",
    "\n",
    "ttype = 'buy'\n",
    "pattern = ['Pattern', 'Trend']\n",
    "indicator_list = pattern\n",
    "indicator_list_higher = ['Trend']\n",
    "\n",
    "work_timeframe = '1h'\n",
    "higher_timeframe = '4h'\n",
    "opt_limit = 100000\n",
    "load = True\n",
    "\n",
    "print(f'Timeframe is {work_timeframe}, trade type is {ttype}')\n",
    "\n",
    "# Get configs\n",
    "configs = ConfigFactory.factory(environ).configs\n",
    "configs['Indicator_list'] = pattern\n",
    "configs['Higher_TF_indicator_list'] = indicator_list_higher\n",
    "configs['Timeframes']['work_timeframe'] = work_timeframe\n",
    "configs['Timeframes']['higher_timeframe'] = higher_timeframe\n",
    "\n",
    "optim_dict = {\n",
    "                'Pattern': {\n",
    "                            'vol_window': [96],\n",
    "                            'vol_q_high': [0.75], # np.arange(0.1, 1, 0.05), \n",
    "                            'vol_q_low': [0.1], # np.arange(0.1, 1, 0.05),\n",
    "                            'window_low_bound': [1], \n",
    "                            'window_high_bound': [5],\n",
    "                            'first_candle': [0.5], # np.arange(0.5, 1, 0.05),\n",
    "                            'second_candle': [0.5], # np.arange(0.5, 1, 0.05)\n",
    "                            },\n",
    "                'Trend': {\n",
    "                            'timeperiod': [30], # np.arange(2, 50, 2),\n",
    "                            'low_bound': [0]\n",
    "                            }\n",
    "             }\n",
    "\n",
    "opt = Optimizer(pattern, optim_dict, clean=True, **configs)\n",
    "stat = opt.optimize(pattern, ttype, opt_limit, load, 'ml')\n"
   ]
  },
  {
   "attachments": {},
   "cell_type": "markdown",
   "metadata": {},
   "source": [
    "# Load Pattern sell data"
   ]
  },
  {
   "cell_type": "code",
   "execution_count": null,
   "metadata": {},
   "outputs": [
    {
     "name": "stdout",
     "output_type": "stream",
     "text": [
      "Timeframe is 1h, trade type is sell\n",
      "Number of combinations is 1\n"
     ]
    },
    {
     "name": "stderr",
     "output_type": "stream",
     "text": [
      "100%|██████████| 1/1 [04:10<00:00, 250.27s/it]\n"
     ]
    }
   ],
   "source": [
    "ttype = 'sell'\n",
    "pattern = ['Pattern', 'Trend']\n",
    "indicator_list = pattern\n",
    "indicator_list_higher = ['Trend']\n",
    "\n",
    "load = False\n",
    "\n",
    "print(f'Timeframe is {work_timeframe}, trade type is {ttype}')\n",
    "\n",
    "# Get configs\n",
    "configs = ConfigFactory.factory(environ).configs\n",
    "configs['Indicator_list'] = pattern\n",
    "configs['Higher_TF_indicator_list'] = indicator_list_higher\n",
    "configs['Timeframes']['work_timeframe'] = work_timeframe\n",
    "configs['Timeframes']['higher_timeframe'] = higher_timeframe\n",
    "\n",
    "optim_dict = {\n",
    "                'Pattern': {\n",
    "                            'vol_window': [96],\n",
    "                            'vol_q_high': [0.75], # np.arange(0.1, 1, 0.05), \n",
    "                            'vol_q_low': [0.1], # np.arange(0.1, 1, 0.05),\n",
    "                            'window_low_bound': [1], \n",
    "                            'window_high_bound': [5],\n",
    "                            'first_candle': [0.75], # np.arange(0.5, 1, 0.05),\n",
    "                            'second_candle': [0.5], # np.arange(0.5, 1, 0.05)\n",
    "                            },\n",
    "                'Trend': {\n",
    "                            'timeperiod': [30], # np.arange(2, 50, 2),\n",
    "                            'low_bound': [0]\n",
    "                            }\n",
    "             }\n",
    "\n",
    "\n",
    "opt = Optimizer(pattern, optim_dict, clean=False, **configs)\n",
    "stat = opt.optimize(pattern, ttype, opt_limit, load, 'ml')"
   ]
  },
  {
   "attachments": {},
   "cell_type": "markdown",
   "metadata": {},
   "source": [
    "# Load RSI-STOCH-Trend buy data"
   ]
  },
  {
   "cell_type": "code",
   "execution_count": null,
   "metadata": {},
   "outputs": [
    {
     "name": "stdout",
     "output_type": "stream",
     "text": [
      "Timeframe is 1h/4h, trade type is buy\n",
      "Number of combinations is 1\n"
     ]
    },
    {
     "name": "stderr",
     "output_type": "stream",
     "text": [
      "100%|██████████| 1/1 [00:43<00:00, 43.07s/it]\n"
     ]
    }
   ],
   "source": [
    "ttype = 'buy'\n",
    "pattern = ['STOCH', 'RSI']\n",
    "indicator_list = pattern\n",
    "indicator_list_higher = []\n",
    "\n",
    "print(f'Timeframe is {work_timeframe}/{higher_timeframe}, trade type is {ttype}')\n",
    "\n",
    "# Get configs\n",
    "configs = ConfigFactory.factory(environ).configs\n",
    "configs['Indicator_list'] = indicator_list\n",
    "configs['Higher_TF_indicator_list'] = indicator_list_higher\n",
    "configs['Timeframes']['work_timeframe'] = work_timeframe\n",
    "configs['Timeframes']['higher_timeframe'] = higher_timeframe\n",
    "\n",
    "optim_dict = {\n",
    "                'RSI': {\n",
    "                        'timeperiod': [14], \n",
    "                        'low_bound': [25]\n",
    "                       },\n",
    "                'STOCH': {\n",
    "                          'fastk_period': [9],\n",
    "                          'slowk_period': [7],\n",
    "                          'slowd_period': [3], \n",
    "                          'low_bound': [25]\n",
    "                        },\n",
    "                'Trend': {\n",
    "                          'timeperiod': [30], \n",
    "                          'low_bound': [0]\n",
    "                        }\n",
    "             }\n",
    "\n",
    "opt = Optimizer(pattern, optim_dict, clean=False, **configs)\n",
    "stat = opt.optimize(pattern, ttype, opt_limit, load, 'ml')"
   ]
  },
  {
   "attachments": {},
   "cell_type": "markdown",
   "metadata": {},
   "source": [
    "# Load RSI-STOCH-Trend sell data"
   ]
  },
  {
   "cell_type": "code",
   "execution_count": null,
   "metadata": {},
   "outputs": [
    {
     "name": "stdout",
     "output_type": "stream",
     "text": [
      "Timeframe is 1h/4h, trade type is sell\n",
      "Number of combinations is 1\n"
     ]
    },
    {
     "name": "stderr",
     "output_type": "stream",
     "text": [
      "100%|██████████| 1/1 [00:41<00:00, 41.58s/it]\n"
     ]
    }
   ],
   "source": [
    "ttype = 'sell'\n",
    "pattern = ['STOCH', 'RSI']\n",
    "indicator_list = pattern\n",
    "indicator_list_higher = []\n",
    "\n",
    "print(f'Timeframe is {work_timeframe}/{higher_timeframe}, trade type is {ttype}')\n",
    "\n",
    "# Get configs\n",
    "configs = ConfigFactory.factory(environ).configs\n",
    "configs['Indicator_list'] = indicator_list\n",
    "configs['Higher_TF_indicator_list'] = indicator_list_higher\n",
    "configs['Timeframes']['work_timeframe'] = work_timeframe\n",
    "configs['Timeframes']['higher_timeframe'] = higher_timeframe\n",
    "\n",
    "optim_dict = {\n",
    "                'RSI': {\n",
    "                        'timeperiod': [14], \n",
    "                        'low_bound': [25]\n",
    "                       },\n",
    "                'STOCH': {\n",
    "                          'fastk_period': [9],\n",
    "                          'slowk_period': [7],\n",
    "                          'slowd_period': [3], \n",
    "                          'low_bound': [25]\n",
    "                        },\n",
    "                'Trend': {\n",
    "                          'timeperiod': [30],\n",
    "                          'low_bound': [0]\n",
    "                        }\n",
    "             }\n",
    "\n",
    "opt = Optimizer(pattern, optim_dict, clean=False, **configs)\n",
    "stat = opt.optimize(pattern, ttype, opt_limit, load, 'ml')"
   ]
  },
  {
   "attachments": {},
   "cell_type": "markdown",
   "metadata": {},
   "source": [
    "# Load MACD buy data"
   ]
  },
  {
   "cell_type": "code",
   "execution_count": null,
   "metadata": {},
   "outputs": [
    {
     "name": "stdout",
     "output_type": "stream",
     "text": [
      "Timeframe is 1h/4h, trade type is buy\n",
      "Number of combinations is 1\n"
     ]
    },
    {
     "name": "stderr",
     "output_type": "stream",
     "text": [
      "100%|██████████| 1/1 [00:50<00:00, 50.46s/it]\n"
     ]
    }
   ],
   "source": [
    "ttype = 'buy'\n",
    "pattern = ['MACD']\n",
    "indicator_list = pattern\n",
    "indicator_list_higher = ['MACD']\n",
    "\n",
    "print(f'Timeframe is {work_timeframe}/{higher_timeframe}, trade type is {ttype}')\n",
    "\n",
    "# Get configs\n",
    "configs = ConfigFactory.factory(environ).configs\n",
    "configs['Indicator_list'] = indicator_list\n",
    "configs['Higher_TF_indicator_list'] = indicator_list_higher\n",
    "configs['Timeframes']['work_timeframe'] = work_timeframe\n",
    "configs['Timeframes']['higher_timeframe'] = higher_timeframe\n",
    "\n",
    "optim_dict = {\n",
    "                'MACD': {\n",
    "                          \"fastperiod\": [14],\n",
    "                          \"slowperiod\": [28],\n",
    "                          \"signalperiod\": [11]\n",
    "                        }\n",
    "             }\n",
    "\n",
    "opt = Optimizer(pattern, optim_dict, clean=False, **configs)\n",
    "stat = opt.optimize(pattern, ttype, opt_limit, load, 'ml')"
   ]
  },
  {
   "attachments": {},
   "cell_type": "markdown",
   "metadata": {},
   "source": [
    "# Load MACD sell data"
   ]
  },
  {
   "cell_type": "code",
   "execution_count": null,
   "metadata": {},
   "outputs": [
    {
     "name": "stdout",
     "output_type": "stream",
     "text": [
      "Timeframe is 1h/4h, trade type is sell\n",
      "Number of combinations is 1\n"
     ]
    },
    {
     "name": "stderr",
     "output_type": "stream",
     "text": [
      "100%|██████████| 1/1 [01:29<00:00, 89.72s/it]\n"
     ]
    }
   ],
   "source": [
    "ttype = 'sell'\n",
    "pattern = ['MACD']\n",
    "indicator_list = pattern\n",
    "indicator_list_higher = ['MACD']\n",
    "\n",
    "print(f'Timeframe is {work_timeframe}/{higher_timeframe}, trade type is {ttype}')\n",
    "\n",
    "# Get configs\n",
    "configs = ConfigFactory.factory(environ).configs\n",
    "configs['Indicator_list'] = indicator_list\n",
    "configs['Higher_TF_indicator_list'] = indicator_list_higher\n",
    "configs['Timeframes']['work_timeframe'] = work_timeframe\n",
    "configs['Timeframes']['higher_timeframe'] = higher_timeframe\n",
    "\n",
    "optim_dict = {\n",
    "                'MACD': {\n",
    "                          \"fastperiod\": [14],\n",
    "                          \"slowperiod\": [28],\n",
    "                          \"signalperiod\": [11]\n",
    "                        }\n",
    "             }\n",
    "\n",
    "opt = Optimizer(pattern, optim_dict, clean=False, **configs)\n",
    "stat = opt.optimize(pattern, ttype, opt_limit, load, 'ml')"
   ]
  }
 ],
 "metadata": {
  "kernelspec": {
   "display_name": "sigbot",
   "language": "python",
   "name": "python3"
  },
  "language_info": {
   "codemirror_mode": {
    "name": "ipython",
    "version": 3
   },
   "file_extension": ".py",
   "mimetype": "text/x-python",
   "name": "python",
   "nbconvert_exporter": "python",
   "pygments_lexer": "ipython3",
   "version": "3.10.5"
  },
  "orig_nbformat": 4
 },
 "nbformat": 4,
 "nbformat_minor": 2
}
