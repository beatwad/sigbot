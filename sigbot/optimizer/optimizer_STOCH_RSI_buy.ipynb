{
 "cells": [
  {
   "cell_type": "markdown",
   "id": "a81194a3",
   "metadata": {},
   "source": [
    "# Timer"
   ]
  },
  {
   "cell_type": "code",
   "execution_count": 1,
   "id": "7f277136",
   "metadata": {},
   "outputs": [],
   "source": [
    "from time import sleep\n",
    "from datetime import datetime\n",
    "\n",
    "month, day, hour, minute = 10, 21, 7, 0\n",
    "\n",
    "while True:\n",
    "    dt = datetime.now()\n",
    "    if dt.month >= month:\n",
    "        if dt.day > day:\n",
    "            break\n",
    "        if dt.day == day and (dt.hour > hour or (dt.hour == hour and dt.minute > minute)):\n",
    "            print(dt.hour, dt.minute)\n",
    "            break\n",
    "    sleep(60)"
   ]
  },
  {
   "cell_type": "markdown",
   "id": "1a64dfc0",
   "metadata": {},
   "source": [
    "# Parameter optimization"
   ]
  },
  {
   "cell_type": "code",
   "execution_count": null,
   "id": "17db78b5",
   "metadata": {
    "scrolled": false
   },
   "outputs": [
    {
     "name": "stdout",
     "output_type": "stream",
     "text": [
      "Number of combinations is 4800\n"
     ]
    },
    {
     "name": "stderr",
     "output_type": "stream",
     "text": [
      "\r",
      "  0%|                                                                                                                                                                                                 | 0/4800 [00:00<?, ?it/s]"
     ]
    },
    {
     "name": "stdout",
     "output_type": "stream",
     "text": [
      "\n",
      "Load the datasets...\n",
      "Binance\n",
      "ByBit\n",
      "BinanceFutures\n",
      "ByBitPerpetual\n"
     ]
    },
    {
     "name": "stderr",
     "output_type": "stream",
     "text": [
      " 10%|█████████████████▉                                                                                                                                                                   | 475/4800 [15:11<1:41:39,  1.41s/it]"
     ]
    }
   ],
   "source": [
    "import sys\n",
    "import pandas as pd\n",
    "import numpy as np\n",
    "from glob import glob\n",
    "from optimizer import Optimizer\n",
    "from os import environ\n",
    "\n",
    "# Set environment variable\n",
    "environ[\"ENV\"] = \"optimize\"\n",
    "\n",
    "from bot.bot import SigBot\n",
    "from config.config import ConfigFactory\n",
    "\n",
    "pd.set_option('display.max_columns', 500)\n",
    "\n",
    "ttype = 'buy'\n",
    "pattern = ['STOCH', 'RSI']\n",
    "work_timeframe = '15m'\n",
    "higher_timeframe = '4h'\n",
    "opt_limit = 300\n",
    "load = True\n",
    "\n",
    "# Get configs\n",
    "configs = ConfigFactory.factory(environ).configs\n",
    "configs['Timeframes']['work_timeframe'] = work_timeframe\n",
    "configs['Timeframes']['higher_timeframe'] = higher_timeframe\n",
    "\n",
    "optim_dict = {'RSI': {'timeperiod': [12, 14, 16], 'low_bound': [20, 25, 30, 35]},\n",
    "              'STOCH': {'fastk_period': [3, 5, 7, 9, 11], 'slowk_period': [2, 3, 4, 5],\n",
    "                        'slowd_period': [2, 3, 5, 7, 9], 'low_bound': [10, 15, 20, 25]}}\n",
    "\n",
    "opt = Optimizer(pattern, optim_dict, **configs)\n",
    "stat = opt.optimize(pattern, ttype, opt_limit, load)\n",
    "\n",
    "stat_list = glob(f'opt_{\"_\".join(pattern)}_{ttype}_{work_timeframe}_{higher_timeframe}*')\n",
    "if not stat_list:\n",
    "    stat.to_pickle(f'opt_{\"_\".join(pattern)}_{ttype}_{work_timeframe}_{higher_timeframe}.pkl')\n",
    "else:\n",
    "    stat.to_pickle(f'opt_{\"_\".join(pattern)}_{ttype}_{work_timeframe}_{higher_timeframe}_{len(stat_list)}.pkl')"
   ]
  },
  {
   "cell_type": "markdown",
   "id": "b19fa0d5",
   "metadata": {},
   "source": [
    "# Check global statistics"
   ]
  },
  {
   "cell_type": "code",
   "execution_count": null,
   "id": "9539dfbc",
   "metadata": {
    "scrolled": false
   },
   "outputs": [],
   "source": [
    "from glob import glob\n",
    "\n",
    "ttype = 'buy'\n",
    "pattern = ['STOCH', 'RSI']\n",
    "work_timeframe = '15m'\n",
    "higher_timeframe = '4h'\n",
    "stat_list = glob(f'opt_{\"_\".join(pattern)}_{ttype}_{work_timeframe}_{higher_timeframe}*')\n",
    "stat = None\n",
    "\n",
    "for sl in stat_list:\n",
    "    tmp = pd.read_pickle(sl)\n",
    "    if stat is None:\n",
    "        stat = tmp.copy()\n",
    "    else:\n",
    "        stat = pd.concat([stat, tmp])\n",
    "        \n",
    "stat['pct_right_forecast_avg'] = stat[[f'pct_right_forecast_{lag + 1}' for lag in range(24)]].apply(np.mean, axis=1)\n",
    "stat['pct_price_diff_avg'] = stat[[f'pct_price_diff_{lag + 1}' for lag in range(24)]].apply(np.mean, axis=1)\n",
    "stat['forecast_rank'] = (stat['pct_right_forecast_avg'] - 70) * stat['forecasts_num']\n",
    "stat['price_rank'] = stat['pct_price_diff_avg'] * stat['forecasts_num']\n",
    "        \n",
    "total_stat = stat.groupby(['RSI_timeperiod', \n",
    "                           'RSI_low_bound', \n",
    "                           'STOCH_fastk_period', \n",
    "                           'STOCH_slowk_period', \n",
    "                           'STOCH_slowd_period', \n",
    "                           'STOCH_low_bound']).agg({'pct_right_forecast_avg': 'mean',\n",
    "                                                    'pct_price_diff_avg': 'mean',\n",
    "                                                    'forecast_rank': 'mean', \n",
    "                                                    'price_rank': 'mean', \n",
    "                                                    'forecasts_num': 'sum'}).sort_values('forecast_rank', \n",
    "                                                                                         ascending=False)\n",
    "total_stat.head(20)"
   ]
  },
  {
   "cell_type": "markdown",
   "id": "236fdd21",
   "metadata": {},
   "source": [
    "# Save new config data to config file"
   ]
  },
  {
   "cell_type": "code",
   "execution_count": 4,
   "id": "4f01efba",
   "metadata": {},
   "outputs": [],
   "source": [
    "from config_updater import ConfigUpdater\n",
    "\n",
    "timeframe = f'{work_timeframe}_{higher_timeframe}'\n",
    "        \n",
    "optim_dict = {'RSI': {'timeperiod': [16], 'low_bound': [35]},\n",
    "                  'STOCH': {'fastk_period': [11], 'slowk_period': [3],\n",
    "                            'slowd_period': [9], 'low_bound': [20]}}\n",
    "        \n",
    "cu = ConfigUpdater(ttype, timeframe)\n",
    "cu.config_update(optim_dict)"
   ]
  },
  {
   "cell_type": "code",
   "execution_count": 5,
   "id": "e679ef95",
   "metadata": {
    "scrolled": true
   },
   "outputs": [
    {
     "data": {
      "text/plain": [
       "pct_right_forecast_avg     68.066131\n",
       "pct_price_diff_avg          0.512321\n",
       "forecast_rank              63.088274\n",
       "price_rank                 28.465060\n",
       "forecasts_num             345.000000\n",
       "Name: (16, 35, 11, 3, 9, 25), dtype: float64"
      ]
     },
     "execution_count": 5,
     "metadata": {},
     "output_type": "execute_result"
    }
   ],
   "source": [
    "total_stat.loc[(16, 35, 11, 3, 9, 25)]"
   ]
  }
 ],
 "metadata": {
  "kernelspec": {
   "display_name": "Python 3 (ipykernel)",
   "language": "python",
   "name": "python3"
  },
  "language_info": {
   "codemirror_mode": {
    "name": "ipython",
    "version": 3
   },
   "file_extension": ".py",
   "mimetype": "text/x-python",
   "name": "python",
   "nbconvert_exporter": "python",
   "pygments_lexer": "ipython3",
   "version": "3.10.6"
  }
 },
 "nbformat": 4,
 "nbformat_minor": 5
}
